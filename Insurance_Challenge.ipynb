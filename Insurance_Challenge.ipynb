{
  "nbformat": 4,
  "nbformat_minor": 0,
  "metadata": {
    "kernelspec": {
      "display_name": "Python 3",
      "language": "python",
      "name": "python3"
    },
    "language_info": {
      "codemirror_mode": {
        "name": "ipython",
        "version": 3
      },
      "file_extension": ".py",
      "mimetype": "text/x-python",
      "name": "python",
      "nbconvert_exporter": "python",
      "pygments_lexer": "ipython3",
      "version": "3.6.10"
    },
    "colab": {
      "name": "Insurance_Challenge",
      "provenance": [],
      "collapsed_sections": [],
      "toc_visible": true,
      "include_colab_link": true
    }
  },
  "cells": [
    {
      "cell_type": "markdown",
      "metadata": {
        "id": "view-in-github",
        "colab_type": "text"
      },
      "source": [
        "<a href=\"https://colab.research.google.com/github/blottb7/NicerOdds_Scraper/blob/master/Insurance_Challenge.ipynb\" target=\"_parent\"><img src=\"https://colab.research.google.com/assets/colab-badge.svg\" alt=\"Open In Colab\"/></a>"
      ]
    },
    {
      "cell_type": "markdown",
      "metadata": {
        "id": "rWq4q0Gfp1Ha"
      },
      "source": [
        "<div style=\"text-align: center\">\n",
        "  <img alt=\"AIcrowd\" src=\"https://gitlab.aicrowd.com/jyotish/pricing-game-notebook-scripts/raw/master/pricing-game-banner.png\">\n",
        "</div>"
      ]
    },
    {
      "cell_type": "markdown",
      "metadata": {
        "id": "uIBNi6PiHFfD"
      },
      "source": [
        "# How to use this notebook 📝\n",
        "\n",
        "1. **Copy the notebook**. This is a shared template and any edits you make here will not be saved. _You should copy it into your own drive folder._ For this, click the \"File\" menu (top-left), then \"Save a Copy in Drive\". You can edit your copy however you like.\n",
        "2. **Link it to your AICrowd account**. In order to submit your code to AICrowd, you need to provide your account's API key (see [_\"Configure static variables\"_](#static-var) for details).\n",
        "3. **Stick to the function definitions**. The submission to AICrowd will look for the pre-defined function names:\n",
        "  - `fit_model`\n",
        "  - `save_model`\n",
        "  - `load_model`\n",
        "  - `predict_expected_claim`\n",
        "  - `predict_premium`\n",
        "\n",
        "    Anything else you write outside of these functions will not be part of the final submission (including constants and utility functions), so make sure everything is defined within them, except for:\n",
        "4. **Define your preprocessing**. In addition to the functions above, anything in the cell labelled [_\"Define your data preprocessing\"_](#data-preprocessing) will also be imported into your final submission. "
      ]
    },
    {
      "cell_type": "markdown",
      "metadata": {
        "id": "uor1bk8ud9Yf"
      },
      "source": [
        "# Your pricing model 🕵️\n",
        "\n",
        "In this notebook, you can play with the data, and define and train your pricing model. You can then directly submit it to the AICrowd, with some magic code at the end.\n",
        "\n",
        "### Baseline logistic regression 💪\n",
        "You can also play with a baseline logistic regression model [implemented here](https://colab.research.google.com/drive/1iDgDgWUw9QzOkbTYjeyY3i3DGuCoghs3?usp=sharing). "
      ]
    },
    {
      "cell_type": "markdown",
      "metadata": {
        "id": "KOG9aspEPfLo"
      },
      "source": [
        "# Setup the notebook 🛠"
      ]
    },
    {
      "cell_type": "code",
      "metadata": {
        "id": "Cc9aD_S9w_Qs",
        "colab": {
          "base_uri": "https://localhost:8080/"
        },
        "outputId": "215ad661-23c7-47ed-97cf-2200d0ba0ae5"
      },
      "source": [
        "!bash <(curl -sL https://gitlab.aicrowd.com/jyotish/pricing-game-notebook-scripts/raw/master/python/setup.sh)\n",
        "from aicrowd_helpers import *"
      ],
      "execution_count": null,
      "outputs": [
        {
          "output_type": "stream",
          "text": [
            "⚙️ Installing AIcrowd utilities...\n",
            "  Running command git clone -q https://gitlab.aicrowd.com/yoogottamk/aicrowd-cli /tmp/pip-req-build-t5kulups\n",
            "✅ Installed AIcrowd utilities\n"
          ],
          "name": "stdout"
        }
      ]
    },
    {
      "cell_type": "markdown",
      "metadata": {
        "id": "oWAkvr2mPqhO"
      },
      "source": [
        "# Configure static variables 📎\n",
        "<a name=\"static-var\"></a>\n",
        "\n",
        "In order to submit using this notebook, you must visit this URL https://aicrowd.com/participants/me and copy your API key. \n",
        "\n",
        "Then you must set the value of `AICROWD_API_KEY` wuth the value."
      ]
    },
    {
      "cell_type": "code",
      "metadata": {
        "id": "3Z8nmleFd9Yf"
      },
      "source": [
        "import sklearn\n",
        "\n",
        "class Config:\n",
        "  TRAINING_DATA_PATH = 'training.csv'\n",
        "  MODEL_OUTPUT_PATH = 'model.pkl'\n",
        "  AICROWD_API_KEY = '108a93b8b66b6039d030914a696c9c0c'  # You can get the key from https://aicrowd.com/participants/me\n",
        "  ADDITIONAL_PACKAGES = [\n",
        "    'numpy',  # you can define versions as well, numpy==0.19.2\n",
        "    'pandas',\n",
        "    'scikit-learn==' + sklearn.__version__,\n",
        "  ]"
      ],
      "execution_count": null,
      "outputs": []
    },
    {
      "cell_type": "markdown",
      "metadata": {
        "id": "iK8Ki2WUjVoX"
      },
      "source": [
        "# Download dataset files 💾"
      ]
    },
    {
      "cell_type": "code",
      "metadata": {
        "id": "cgKzpAV0jVFQ",
        "colab": {
          "base_uri": "https://localhost:8080/"
        },
        "outputId": "52016955-7a1f-4ac0-a2f6-8cf6d2cdce83"
      },
      "source": [
        "%download_aicrowd_dataset"
      ],
      "execution_count": null,
      "outputs": [
        {
          "output_type": "stream",
          "text": [
            "💾 Downloading dataset...\n",
            "Verifying API Key...\n",
            "API Key valid\n",
            "Saved API Key successfully!\n",
            "✅ Downloaded dataset\n"
          ],
          "name": "stdout"
        }
      ]
    },
    {
      "cell_type": "markdown",
      "metadata": {
        "id": "5wrBpC0qd9Yg"
      },
      "source": [
        "# Packages 🗃\n",
        "\n",
        "<a name=\"packages\"></a>\n",
        "\n",
        "Import here all the packages you need to define your model. **You will need to include all of these packages in `Config.ADDITIONAL_PACKAGES` for your code to run properly once submitted.**"
      ]
    },
    {
      "cell_type": "code",
      "metadata": {
        "id": "4q4C50Fsd9Yg"
      },
      "source": [
        "%%track_imports\n",
        "\n",
        "import numpy as np\n",
        "import pandas as pd\n",
        "import pickle"
      ],
      "execution_count": null,
      "outputs": []
    },
    {
      "cell_type": "code",
      "metadata": {
        "id": "lR62QOUGd9Yg"
      },
      "source": [
        "import importlib\n",
        "import global_imports\n",
        "importlib.reload(global_imports)\n",
        "from global_imports import *  # do not change this"
      ],
      "execution_count": null,
      "outputs": []
    },
    {
      "cell_type": "code",
      "metadata": {
        "id": "EjyJatCxVYo5"
      },
      "source": [
        "# keep track of packages added (not default) here\r\n",
        "from sklearn.impute import KNNImputer\r\n",
        "from sklearn.preprocessing import RobustScaler\r\n",
        "from sklearn.preprocessing import LabelEncoder\r\n",
        "from sklearn.model_selection import train_test_split\r\n",
        "from sklearn.dummy import DummyRegressor\r\n",
        "from sklearn.metrics import mean_squared_error\r\n",
        "from sklearn.linear_model import LinearRegression\r\n",
        "from sklearn.model_selection import cross_validate\r\n",
        "\r\n",
        "import math"
      ],
      "execution_count": null,
      "outputs": []
    },
    {
      "cell_type": "markdown",
      "metadata": {
        "id": "YRgsbwWwd9Yg"
      },
      "source": [
        "# Loading the data 📲"
      ]
    },
    {
      "cell_type": "code",
      "metadata": {
        "id": "vQQghMU7d9Yg"
      },
      "source": [
        "df = pd.read_csv(Config.TRAINING_DATA_PATH)\n",
        "X_train = df.drop(columns=['claim_amount'])\n",
        "y_train = df['claim_amount']"
      ],
      "execution_count": null,
      "outputs": []
    },
    {
      "cell_type": "markdown",
      "metadata": {
        "id": "WArx8uDQd9Yh"
      },
      "source": [
        "## How does the data look like? 🔍"
      ]
    },
    {
      "cell_type": "code",
      "metadata": {
        "id": "O_dyebPyQbSO",
        "colab": {
          "base_uri": "https://localhost:8080/",
          "height": 193
        },
        "outputId": "fbc16e09-e497-4451-a2b3-595543d115c9"
      },
      "source": [
        "X_train.sample(n=4)"
      ],
      "execution_count": null,
      "outputs": [
        {
          "output_type": "execute_result",
          "data": {
            "text/html": [
              "<div>\n",
              "<style scoped>\n",
              "    .dataframe tbody tr th:only-of-type {\n",
              "        vertical-align: middle;\n",
              "    }\n",
              "\n",
              "    .dataframe tbody tr th {\n",
              "        vertical-align: top;\n",
              "    }\n",
              "\n",
              "    .dataframe thead th {\n",
              "        text-align: right;\n",
              "    }\n",
              "</style>\n",
              "<table border=\"1\" class=\"dataframe\">\n",
              "  <thead>\n",
              "    <tr style=\"text-align: right;\">\n",
              "      <th></th>\n",
              "      <th>id_policy</th>\n",
              "      <th>year</th>\n",
              "      <th>pol_no_claims_discount</th>\n",
              "      <th>pol_coverage</th>\n",
              "      <th>pol_duration</th>\n",
              "      <th>pol_sit_duration</th>\n",
              "      <th>pol_pay_freq</th>\n",
              "      <th>pol_payd</th>\n",
              "      <th>pol_usage</th>\n",
              "      <th>drv_sex1</th>\n",
              "      <th>drv_age1</th>\n",
              "      <th>drv_age_lic1</th>\n",
              "      <th>drv_drv2</th>\n",
              "      <th>drv_sex2</th>\n",
              "      <th>drv_age2</th>\n",
              "      <th>drv_age_lic2</th>\n",
              "      <th>vh_make_model</th>\n",
              "      <th>vh_age</th>\n",
              "      <th>vh_fuel</th>\n",
              "      <th>vh_type</th>\n",
              "      <th>vh_speed</th>\n",
              "      <th>vh_value</th>\n",
              "      <th>vh_weight</th>\n",
              "      <th>population</th>\n",
              "      <th>town_surface_area</th>\n",
              "    </tr>\n",
              "  </thead>\n",
              "  <tbody>\n",
              "    <tr>\n",
              "      <th>127778</th>\n",
              "      <td>PL059905</td>\n",
              "      <td>3.0</td>\n",
              "      <td>0.000</td>\n",
              "      <td>Max</td>\n",
              "      <td>3</td>\n",
              "      <td>3</td>\n",
              "      <td>Yearly</td>\n",
              "      <td>No</td>\n",
              "      <td>Retired</td>\n",
              "      <td>M</td>\n",
              "      <td>68.0</td>\n",
              "      <td>49.0</td>\n",
              "      <td>No</td>\n",
              "      <td>0</td>\n",
              "      <td>NaN</td>\n",
              "      <td>NaN</td>\n",
              "      <td>svmjzfcsvgxiwwjt</td>\n",
              "      <td>20.0</td>\n",
              "      <td>Gasoline</td>\n",
              "      <td>Tourism</td>\n",
              "      <td>180.0</td>\n",
              "      <td>22057.0</td>\n",
              "      <td>1245.0</td>\n",
              "      <td>370.0</td>\n",
              "      <td>358.4</td>\n",
              "    </tr>\n",
              "    <tr>\n",
              "      <th>160773</th>\n",
              "      <td>PL077289</td>\n",
              "      <td>3.0</td>\n",
              "      <td>0.151</td>\n",
              "      <td>Max</td>\n",
              "      <td>8</td>\n",
              "      <td>3</td>\n",
              "      <td>Monthly</td>\n",
              "      <td>No</td>\n",
              "      <td>WorkPrivate</td>\n",
              "      <td>M</td>\n",
              "      <td>35.0</td>\n",
              "      <td>17.0</td>\n",
              "      <td>No</td>\n",
              "      <td>0</td>\n",
              "      <td>NaN</td>\n",
              "      <td>NaN</td>\n",
              "      <td>xaklvfxsplowrglp</td>\n",
              "      <td>7.0</td>\n",
              "      <td>Diesel</td>\n",
              "      <td>Tourism</td>\n",
              "      <td>196.0</td>\n",
              "      <td>24750.0</td>\n",
              "      <td>1200.0</td>\n",
              "      <td>10.0</td>\n",
              "      <td>72.8</td>\n",
              "    </tr>\n",
              "    <tr>\n",
              "      <th>56170</th>\n",
              "      <td>PL014966</td>\n",
              "      <td>1.0</td>\n",
              "      <td>0.000</td>\n",
              "      <td>Max</td>\n",
              "      <td>13</td>\n",
              "      <td>3</td>\n",
              "      <td>Yearly</td>\n",
              "      <td>No</td>\n",
              "      <td>WorkPrivate</td>\n",
              "      <td>M</td>\n",
              "      <td>64.0</td>\n",
              "      <td>46.0</td>\n",
              "      <td>Yes</td>\n",
              "      <td>M</td>\n",
              "      <td>29.0</td>\n",
              "      <td>11.0</td>\n",
              "      <td>biqzvbfzjivqmrro</td>\n",
              "      <td>2.0</td>\n",
              "      <td>Diesel</td>\n",
              "      <td>Tourism</td>\n",
              "      <td>140.0</td>\n",
              "      <td>1113.0</td>\n",
              "      <td>393.0</td>\n",
              "      <td>1790.0</td>\n",
              "      <td>306.2</td>\n",
              "    </tr>\n",
              "    <tr>\n",
              "      <th>125812</th>\n",
              "      <td>PL061038</td>\n",
              "      <td>3.0</td>\n",
              "      <td>0.000</td>\n",
              "      <td>Max</td>\n",
              "      <td>5</td>\n",
              "      <td>4</td>\n",
              "      <td>Monthly</td>\n",
              "      <td>No</td>\n",
              "      <td>WorkPrivate</td>\n",
              "      <td>M</td>\n",
              "      <td>44.0</td>\n",
              "      <td>26.0</td>\n",
              "      <td>Yes</td>\n",
              "      <td>F</td>\n",
              "      <td>34.0</td>\n",
              "      <td>15.0</td>\n",
              "      <td>jrwdpzrmxqlzzepk</td>\n",
              "      <td>14.0</td>\n",
              "      <td>Diesel</td>\n",
              "      <td>Tourism</td>\n",
              "      <td>168.0</td>\n",
              "      <td>18310.0</td>\n",
              "      <td>1538.0</td>\n",
              "      <td>50.0</td>\n",
              "      <td>155.1</td>\n",
              "    </tr>\n",
              "  </tbody>\n",
              "</table>\n",
              "</div>"
            ],
            "text/plain": [
              "       id_policy  year  ...  population town_surface_area\n",
              "127778  PL059905   3.0  ...       370.0             358.4\n",
              "160773  PL077289   3.0  ...        10.0              72.8\n",
              "56170   PL014966   1.0  ...      1790.0             306.2\n",
              "125812  PL061038   3.0  ...        50.0             155.1\n",
              "\n",
              "[4 rows x 25 columns]"
            ]
          },
          "metadata": {
            "tags": []
          },
          "execution_count": 8
        }
      ]
    },
    {
      "cell_type": "code",
      "metadata": {
        "id": "WoJEQhxMQtq9",
        "colab": {
          "base_uri": "https://localhost:8080/"
        },
        "outputId": "0b3fc6ca-8ae0-49ff-b84a-088dd5f0e390"
      },
      "source": [
        "y_train.sample(n=4)"
      ],
      "execution_count": null,
      "outputs": [
        {
          "output_type": "execute_result",
          "data": {
            "text/plain": [
              "142106    0.0\n",
              "217362    0.0\n",
              "23939     0.0\n",
              "53486     0.0\n",
              "Name: claim_amount, dtype: float64"
            ]
          },
          "metadata": {
            "tags": []
          },
          "execution_count": 9
        }
      ]
    },
    {
      "cell_type": "code",
      "metadata": {
        "id": "mxG7u9Oj5kEJ"
      },
      "source": [
        "# len(X_train.id_policy.unique())"
      ],
      "execution_count": null,
      "outputs": []
    },
    {
      "cell_type": "markdown",
      "metadata": {
        "id": "ynDfq7F_d9Yh"
      },
      "source": [
        "# Training the model 🚀\n",
        "\n",
        "You must first define your first function: `fit_model`. This function takes training data as arguments, and outputs a \"model\" object -- that you define as you wish. For instance, this could be an array of parameter values."
      ]
    },
    {
      "cell_type": "markdown",
      "metadata": {
        "id": "CpW0yH_Lj2hG"
      },
      "source": [
        "## Define your data preprocessing\n",
        "\n",
        "<a name=\"data-preprocessing\"></a>\n",
        "\n",
        "You can add any class or function in this cell for preprocessing. Just make sure that you use the functions here in the `fit_model`, `predict_expected_claim` and `predict_premium` functions if necessary. *italicised text*"
      ]
    },
    {
      "cell_type": "code",
      "metadata": {
        "id": "RFYJwnrz13E8"
      },
      "source": [
        "# Write out pseudocode for entire preprocessing pipeline here\r\n",
        "\r\n",
        "# Deal with missing data\r\n",
        "\r\n",
        "# replace 'bad' data:\r\n",
        "#   drv_sex2 should have 3 values: M, F, or NaN (the age is not 0)\r\n",
        "\r\n",
        "# conditional NaN's:\r\n",
        "# drv_age2 and drv_age_lic2 have NaN's where drv_drv2 = No. Figure out how to deal with these\r\n",
        "\r\n",
        "# Impute:\r\n",
        "# vh_speed, vh_value, vh_weight, vh_age all have missing values.\r\n",
        "# impute NaN's for each with best method; consider their distrubitions\r\n",
        "\r\n",
        "# Outliers\r\n",
        "# Plot distribution of each variable with boxplots\r\n",
        "# Consider dropping rows with outliers\r\n",
        "# See how many rows would be dropped\r\n",
        "\r\n",
        "# Scaling:\r\n",
        "# Pick which columns need to be scaled\r\n",
        "# Scale each with most appropriate method (Robust, Normal, Standard, etc.)\r\n",
        "\r\n",
        "# Encoding\r\n",
        "# For vars with two classes, use LabelEncoder\r\n",
        "# For categorical vars with more than two classes, use OHE\r\n",
        "# Consider whether to drop a column or not\r\n",
        "# Consider what to do with vh_make_model; will create ~900 new encoded columns\r\n",
        "\r\n",
        "# Balancing\r\n",
        "# In most scenarios, no claim is made\r\n",
        "# On the second iteration of the model, consider whether to have a categorical outcome: claim or not\r\n",
        "# As is, no balancing needs to be done.\r\n",
        "\r\n",
        "# Discretizing (binning)\r\n",
        "# I believe this is the type of step to win a competition; as well, it is the type of step\r\n",
        "# that takes you from ok at data science to sought after.\r\n",
        "# For example, muscle cars (super power cars like a Mustang) could be a bin\r\n",
        "\r\n",
        "# Feature engineering\r\n",
        "# Like binning, this could be a game changer\r\n",
        "# However, it is not for an initial model\r\n",
        "\r\n",
        "# Permutation importance\r\n",
        "# Decide which features are predictive\r\n",
        "# When feature engineering is done in the second iteration, do this again"
      ],
      "execution_count": null,
      "outputs": []
    },
    {
      "cell_type": "code",
      "metadata": {
        "id": "lEpZhajSRzUH"
      },
      "source": [
        "# X_train.tail()"
      ],
      "execution_count": null,
      "outputs": []
    },
    {
      "cell_type": "code",
      "metadata": {
        "id": "mEjjdr7pSEpt"
      },
      "source": [
        "# X_train.isnull().sum()"
      ],
      "execution_count": null,
      "outputs": []
    },
    {
      "cell_type": "code",
      "metadata": {
        "id": "jmRraOxpSuVi"
      },
      "source": [
        "# X_train['drv_sex2'].unique()"
      ],
      "execution_count": null,
      "outputs": []
    },
    {
      "cell_type": "code",
      "metadata": {
        "id": "T9bsbNukOTJj"
      },
      "source": [
        "# # Write out pseudocode for entire preprocessing pipeline here\r\n",
        "\r\n",
        "# # Deal with missing data\r\n",
        "# X_train_copy = X_train\r\n",
        "# y_train_copy = y_train\r\n",
        "\r\n",
        "# # replace 'bad' data:\r\n",
        "# #   drv_sex2 should have 3 values: M, F, or NaN (the age is not 0)\r\n",
        "# X_train_copy['drv_sex2'] = X_train_copy['drv_sex2'].replace({'0':np.nan})\r\n",
        "# # X_train_copy\r\n",
        "\r\n",
        "# # conditional NaN's:\r\n",
        "# # drv_age2 and drv_age_lic2 have NaN's where drv_drv2 = No. Figure out how to deal with these\r\n",
        "# X_train_copy.drop(columns=['drv_sex2', 'drv_age2', 'drv_age_lic2'], inplace=True)\r\n",
        "# X_train_copy"
      ],
      "execution_count": null,
      "outputs": []
    },
    {
      "cell_type": "code",
      "metadata": {
        "id": "YkQNsQkZbOPV"
      },
      "source": [
        "\r\n",
        "# # Impute:\r\n",
        "# # vh_speed, vh_value, vh_weight, vh_age all have missing values.\r\n",
        "# # impute NaN's for each with best method; consider their distrubitions\r\n",
        "\r\n",
        "# imputer = KNNImputer()\r\n",
        "\r\n",
        "# X_train_copy['vh_speed'] = imputer.fit_transform(X_train_copy[['vh_speed']])\r\n",
        "# X_train_copy['vh_value'] = imputer.fit_transform(X_train_copy[['vh_value']])\r\n",
        "# X_train_copy['vh_weight'] = imputer.fit_transform(X_train_copy[['vh_weight']])\r\n",
        "# X_train_copy['vh_age'] = imputer.fit_transform(X_train_copy[['vh_age']])\r\n",
        "# # X_train_copy"
      ],
      "execution_count": null,
      "outputs": []
    },
    {
      "cell_type": "code",
      "metadata": {
        "id": "oHFIrI_zcksA"
      },
      "source": [
        "# X_train_copy.isnull().sum()"
      ],
      "execution_count": null,
      "outputs": []
    },
    {
      "cell_type": "code",
      "metadata": {
        "id": "EmHmSW1jcTnJ"
      },
      "source": [
        "# # Outliers\r\n",
        "# # Plot distribution of each variable with boxplots\r\n",
        "# # Consider dropping rows with outliers\r\n",
        "# # See how many rows would be dropped\r\n",
        "\r\n",
        "# # Scaling:\r\n",
        "# # Pick which columns need to be scaled\r\n",
        "# # Scale each with most appropriate method (Robust, Normal, Standard, etc.)\r\n",
        "# scale_columns = ['pol_duration', 'pol_sit_duration', 'drv_age1', 'drv_age_lic1', 'vh_age', 'vh_speed', 'vh_value', 'vh_weight', 'population', 'town_surface_area']\r\n",
        "# scale_columns\r\n",
        "\r\n",
        "# robust_scaler = RobustScaler()\r\n",
        "# X_train_copy[scale_columns] = robust_scaler.fit_transform(X_train_copy[scale_columns])\r\n",
        "# X_train_copy"
      ],
      "execution_count": null,
      "outputs": []
    },
    {
      "cell_type": "code",
      "metadata": {
        "id": "3876Kk1Ahsz8"
      },
      "source": [
        "# # Encoding\r\n",
        "# # For vars with two classes, use LabelEncoder\r\n",
        "# # from sklearn.preprocessing import LabelEncoder\r\n",
        "\r\n",
        "# encode_columns = ['pol_payd','drv_sex1','drv_drv2','vh_type']\r\n",
        "\r\n",
        "# le = LabelEncoder()\r\n",
        "\r\n",
        "# X_train_copy[encode_columns] = X_train_copy[encode_columns].apply(le.fit_transform)\r\n",
        "# # X_train_copy"
      ],
      "execution_count": null,
      "outputs": []
    },
    {
      "cell_type": "code",
      "metadata": {
        "id": "CjANHnu3FXvO"
      },
      "source": [
        "# # For categorical vars with more than two classes, use OHE or dummy vars\r\n",
        "# encode_columns = ['pol_coverage', 'pol_pay_freq', 'pol_usage',\r\n",
        "#                   'drv_drv2', 'vh_fuel']\r\n",
        "\r\n",
        "# X_train_copy = pd.get_dummies(X_train_copy, columns=encode_columns)\r\n",
        "# X_train_copy"
      ],
      "execution_count": null,
      "outputs": []
    },
    {
      "cell_type": "code",
      "metadata": {
        "id": "3kDpX1xiN63y"
      },
      "source": [
        "# # Consider whether to drop a column or not\r\n",
        "# # Consider what to do with vh_make_model; will create ~900 new encoded columns\r\n",
        "\r\n",
        "# # Balancing\r\n",
        "# # In most scenarios, no claim is made\r\n",
        "# # On the second iteration of the model, consider whether to have a categorical outcome: claim or not\r\n",
        "# # As is, no balancing needs to be done.\r\n",
        "\r\n",
        "# # Discretizing (binning)\r\n",
        "# # I believe this is the type of step to win a competition; as well, it is the type of step\r\n",
        "# # that takes you from ok at data science to sought after.\r\n",
        "# # For example, muscle cars (super power cars like a Mustang) could be a bin\r\n",
        "\r\n",
        "# # Feature engineering\r\n",
        "# # Like binning, this could be a game changer\r\n",
        "# # However, it is not for an initial model\r\n",
        "\r\n",
        "# # Permutation importance\r\n",
        "# # Decide which features are predictive\r\n",
        "# # When feature engineering is done in the second iteration, do this again\r\n",
        "\r\n",
        "# # just take the first year of the dataset\r\n",
        "# X_train_yr1 = X_train_copy[X_train_copy['year']==1]\r\n",
        "# X_train_yr1"
      ],
      "execution_count": null,
      "outputs": []
    },
    {
      "cell_type": "code",
      "metadata": {
        "id": "iw_ISbuiQ0Bt"
      },
      "source": [
        "# y_train_yr1 = y_train_copy[:len(X_train_yr1),]\r\n",
        "# y_train_yr1"
      ],
      "execution_count": null,
      "outputs": []
    },
    {
      "cell_type": "code",
      "metadata": {
        "id": "buq4-7IIjsUq"
      },
      "source": [
        "%%aicrowd_include\n",
        "# This magical command saves all code in this cell to a utils module.\n",
        "\n",
        "def preprocess_X_data(X):\n",
        "\n",
        "  # replace 'bad' data:\n",
        "  # drv_sex2 should have 3 values: M, F, or NaN (the age is not 0)\n",
        "  X['drv_sex2'] = X['drv_sex2'].replace({'0':np.nan})\n",
        "\n",
        "  # conditional NaN's:\n",
        "  # drv_age2 and drv_age_lic2 have NaN's where drv_drv2 = No. Figure out how to deal with these\n",
        "  X.drop(columns=['drv_sex2', 'drv_age2', 'drv_age_lic2'], inplace=True)\n",
        "\n",
        "  # Impute:\n",
        "  # vh_speed, vh_value, vh_weight, vh_age all have missing values.\n",
        "  # impute NaN's for each with best method; consider their distrubitions\n",
        "  imputer = KNNImputer()\n",
        "\n",
        "  X['vh_speed'] = imputer.fit_transform(X[['vh_speed']])\n",
        "  X['vh_value'] = imputer.fit_transform(X[['vh_value']])\n",
        "  X['vh_weight'] = imputer.fit_transform(X[['vh_weight']])\n",
        "  X['vh_age'] = imputer.fit_transform(X[['vh_age']])\n",
        "\n",
        "  # Scaling:\n",
        "  # Pick which columns need to be scaled\n",
        "  # Scale each with most appropriate method (Robust, Normal, Standard, etc.)\n",
        "  scale_columns = ['pol_duration', 'pol_sit_duration', 'drv_age1', 'drv_age_lic1', 'vh_age', 'vh_speed', 'vh_value', 'vh_weight', 'population', 'town_surface_area']\n",
        "\n",
        "  robust_scaler = RobustScaler()\n",
        "  X[scale_columns] = robust_scaler.fit_transform(X[scale_columns])\n",
        "\n",
        "  # Encoding\n",
        "  # For vars with two classes, use LabelEncoder\n",
        "  # from sklearn.preprocessing import LabelEncoder\n",
        "\n",
        "  encode_columns = ['pol_payd','drv_sex1','drv_drv2','vh_type']\n",
        "\n",
        "  le = LabelEncoder()\n",
        "\n",
        "  X[encode_columns] = X[encode_columns].apply(le.fit_transform)\n",
        "\n",
        "  # For categorical vars with more than two classes, use OHE or dummy vars\n",
        "  encode_columns = ['pol_coverage', 'pol_pay_freq', 'pol_usage',\n",
        "                  'drv_drv2', 'vh_fuel']\n",
        "\n",
        "  X = pd.get_dummies(X, columns=encode_columns)\n",
        "\n",
        "  return X\n",
        "\n",
        "# include your preprocessing functions and classes here."
      ],
      "execution_count": null,
      "outputs": []
    },
    {
      "cell_type": "code",
      "metadata": {
        "colab": {
          "base_uri": "https://localhost:8080/",
          "height": 224
        },
        "id": "52CxwIwran-4",
        "outputId": "a1f6c915-64c5-4ef5-ba3d-8d531ba13840"
      },
      "source": [
        "X_train_preprocessed = preprocess_X_data(X_train)\r\n",
        "X_train_preprocessed.head()"
      ],
      "execution_count": null,
      "outputs": [
        {
          "output_type": "execute_result",
          "data": {
            "text/html": [
              "<div>\n",
              "<style scoped>\n",
              "    .dataframe tbody tr th:only-of-type {\n",
              "        vertical-align: middle;\n",
              "    }\n",
              "\n",
              "    .dataframe tbody tr th {\n",
              "        vertical-align: top;\n",
              "    }\n",
              "\n",
              "    .dataframe thead th {\n",
              "        text-align: right;\n",
              "    }\n",
              "</style>\n",
              "<table border=\"1\" class=\"dataframe\">\n",
              "  <thead>\n",
              "    <tr style=\"text-align: right;\">\n",
              "      <th></th>\n",
              "      <th>id_policy</th>\n",
              "      <th>year</th>\n",
              "      <th>pol_no_claims_discount</th>\n",
              "      <th>pol_duration</th>\n",
              "      <th>pol_sit_duration</th>\n",
              "      <th>pol_payd</th>\n",
              "      <th>drv_sex1</th>\n",
              "      <th>drv_age1</th>\n",
              "      <th>drv_age_lic1</th>\n",
              "      <th>vh_make_model</th>\n",
              "      <th>vh_age</th>\n",
              "      <th>vh_type</th>\n",
              "      <th>vh_speed</th>\n",
              "      <th>vh_value</th>\n",
              "      <th>vh_weight</th>\n",
              "      <th>population</th>\n",
              "      <th>town_surface_area</th>\n",
              "      <th>pol_coverage_Max</th>\n",
              "      <th>pol_coverage_Med1</th>\n",
              "      <th>pol_coverage_Med2</th>\n",
              "      <th>pol_coverage_Min</th>\n",
              "      <th>pol_pay_freq_Biannual</th>\n",
              "      <th>pol_pay_freq_Monthly</th>\n",
              "      <th>pol_pay_freq_Quarterly</th>\n",
              "      <th>pol_pay_freq_Yearly</th>\n",
              "      <th>pol_usage_AllTrips</th>\n",
              "      <th>pol_usage_Professional</th>\n",
              "      <th>pol_usage_Retired</th>\n",
              "      <th>pol_usage_WorkPrivate</th>\n",
              "      <th>drv_drv2_0</th>\n",
              "      <th>drv_drv2_1</th>\n",
              "      <th>vh_fuel_Diesel</th>\n",
              "      <th>vh_fuel_Gasoline</th>\n",
              "      <th>vh_fuel_Hybrid</th>\n",
              "    </tr>\n",
              "  </thead>\n",
              "  <tbody>\n",
              "    <tr>\n",
              "      <th>0</th>\n",
              "      <td>PL000000</td>\n",
              "      <td>1.0</td>\n",
              "      <td>0.332</td>\n",
              "      <td>-0.461538</td>\n",
              "      <td>-1.5</td>\n",
              "      <td>0</td>\n",
              "      <td>1</td>\n",
              "      <td>-0.954545</td>\n",
              "      <td>-0.90</td>\n",
              "      <td>aparvvfowrjncdhp</td>\n",
              "      <td>-0.222222</td>\n",
              "      <td>1</td>\n",
              "      <td>0.000000</td>\n",
              "      <td>-0.500615</td>\n",
              "      <td>0.000000</td>\n",
              "      <td>2.159091</td>\n",
              "      <td>-0.592233</td>\n",
              "      <td>0</td>\n",
              "      <td>0</td>\n",
              "      <td>1</td>\n",
              "      <td>0</td>\n",
              "      <td>0</td>\n",
              "      <td>1</td>\n",
              "      <td>0</td>\n",
              "      <td>0</td>\n",
              "      <td>0</td>\n",
              "      <td>0</td>\n",
              "      <td>0</td>\n",
              "      <td>1</td>\n",
              "      <td>0</td>\n",
              "      <td>1</td>\n",
              "      <td>0</td>\n",
              "      <td>1</td>\n",
              "      <td>0</td>\n",
              "    </tr>\n",
              "    <tr>\n",
              "      <th>1</th>\n",
              "      <td>PL042495</td>\n",
              "      <td>1.0</td>\n",
              "      <td>0.000</td>\n",
              "      <td>-0.384615</td>\n",
              "      <td>-1.5</td>\n",
              "      <td>0</td>\n",
              "      <td>1</td>\n",
              "      <td>0.181818</td>\n",
              "      <td>0.35</td>\n",
              "      <td>aparvvfowrjncdhp</td>\n",
              "      <td>0.000000</td>\n",
              "      <td>1</td>\n",
              "      <td>0.000000</td>\n",
              "      <td>-0.500615</td>\n",
              "      <td>0.000000</td>\n",
              "      <td>2.204545</td>\n",
              "      <td>-0.503883</td>\n",
              "      <td>0</td>\n",
              "      <td>0</td>\n",
              "      <td>1</td>\n",
              "      <td>0</td>\n",
              "      <td>0</td>\n",
              "      <td>1</td>\n",
              "      <td>0</td>\n",
              "      <td>0</td>\n",
              "      <td>0</td>\n",
              "      <td>0</td>\n",
              "      <td>0</td>\n",
              "      <td>1</td>\n",
              "      <td>1</td>\n",
              "      <td>0</td>\n",
              "      <td>1</td>\n",
              "      <td>0</td>\n",
              "      <td>0</td>\n",
              "    </tr>\n",
              "    <tr>\n",
              "      <th>2</th>\n",
              "      <td>PL042496</td>\n",
              "      <td>1.0</td>\n",
              "      <td>0.196</td>\n",
              "      <td>-0.692308</td>\n",
              "      <td>-1.5</td>\n",
              "      <td>1</td>\n",
              "      <td>1</td>\n",
              "      <td>-0.045455</td>\n",
              "      <td>0.05</td>\n",
              "      <td>iwhqpdfuhrsxyqxe</td>\n",
              "      <td>-0.222222</td>\n",
              "      <td>0</td>\n",
              "      <td>-0.857143</td>\n",
              "      <td>-0.205729</td>\n",
              "      <td>0.138122</td>\n",
              "      <td>1.590909</td>\n",
              "      <td>0.522816</td>\n",
              "      <td>0</td>\n",
              "      <td>1</td>\n",
              "      <td>0</td>\n",
              "      <td>0</td>\n",
              "      <td>0</td>\n",
              "      <td>0</td>\n",
              "      <td>0</td>\n",
              "      <td>1</td>\n",
              "      <td>0</td>\n",
              "      <td>0</td>\n",
              "      <td>1</td>\n",
              "      <td>0</td>\n",
              "      <td>0</td>\n",
              "      <td>1</td>\n",
              "      <td>1</td>\n",
              "      <td>0</td>\n",
              "      <td>0</td>\n",
              "    </tr>\n",
              "    <tr>\n",
              "      <th>3</th>\n",
              "      <td>PL042497</td>\n",
              "      <td>1.0</td>\n",
              "      <td>0.000</td>\n",
              "      <td>-0.230769</td>\n",
              "      <td>0.5</td>\n",
              "      <td>0</td>\n",
              "      <td>0</td>\n",
              "      <td>-0.090909</td>\n",
              "      <td>-0.15</td>\n",
              "      <td>kvcddisqpkysmvvo</td>\n",
              "      <td>-0.666667</td>\n",
              "      <td>1</td>\n",
              "      <td>-0.892857</td>\n",
              "      <td>0.084901</td>\n",
              "      <td>-0.361878</td>\n",
              "      <td>-0.318182</td>\n",
              "      <td>0.313592</td>\n",
              "      <td>0</td>\n",
              "      <td>0</td>\n",
              "      <td>1</td>\n",
              "      <td>0</td>\n",
              "      <td>0</td>\n",
              "      <td>0</td>\n",
              "      <td>0</td>\n",
              "      <td>1</td>\n",
              "      <td>0</td>\n",
              "      <td>0</td>\n",
              "      <td>0</td>\n",
              "      <td>1</td>\n",
              "      <td>1</td>\n",
              "      <td>0</td>\n",
              "      <td>0</td>\n",
              "      <td>1</td>\n",
              "      <td>0</td>\n",
              "    </tr>\n",
              "    <tr>\n",
              "      <th>4</th>\n",
              "      <td>PL042498</td>\n",
              "      <td>1.0</td>\n",
              "      <td>0.000</td>\n",
              "      <td>-0.692308</td>\n",
              "      <td>-1.0</td>\n",
              "      <td>0</td>\n",
              "      <td>0</td>\n",
              "      <td>0.409091</td>\n",
              "      <td>0.20</td>\n",
              "      <td>tdgkjlphosocwbgu</td>\n",
              "      <td>0.333333</td>\n",
              "      <td>1</td>\n",
              "      <td>0.928571</td>\n",
              "      <td>0.291860</td>\n",
              "      <td>0.475138</td>\n",
              "      <td>-0.659091</td>\n",
              "      <td>-0.411650</td>\n",
              "      <td>0</td>\n",
              "      <td>1</td>\n",
              "      <td>0</td>\n",
              "      <td>0</td>\n",
              "      <td>0</td>\n",
              "      <td>0</td>\n",
              "      <td>0</td>\n",
              "      <td>1</td>\n",
              "      <td>0</td>\n",
              "      <td>0</td>\n",
              "      <td>1</td>\n",
              "      <td>0</td>\n",
              "      <td>1</td>\n",
              "      <td>0</td>\n",
              "      <td>0</td>\n",
              "      <td>1</td>\n",
              "      <td>0</td>\n",
              "    </tr>\n",
              "  </tbody>\n",
              "</table>\n",
              "</div>"
            ],
            "text/plain": [
              "  id_policy  year  ...  vh_fuel_Gasoline  vh_fuel_Hybrid\n",
              "0  PL000000   1.0  ...                 1               0\n",
              "1  PL042495   1.0  ...                 0               0\n",
              "2  PL042496   1.0  ...                 0               0\n",
              "3  PL042497   1.0  ...                 1               0\n",
              "4  PL042498   1.0  ...                 1               0\n",
              "\n",
              "[5 rows x 34 columns]"
            ]
          },
          "metadata": {
            "tags": []
          },
          "execution_count": 29
        }
      ]
    },
    {
      "cell_type": "code",
      "metadata": {
        "colab": {
          "base_uri": "https://localhost:8080/",
          "height": 439
        },
        "id": "p_wutJUAb9fJ",
        "outputId": "6647ea11-4646-4cd2-8e27-fd2cfff3683f"
      },
      "source": [
        "X_train_preprocessed"
      ],
      "execution_count": null,
      "outputs": [
        {
          "output_type": "execute_result",
          "data": {
            "text/html": [
              "<div>\n",
              "<style scoped>\n",
              "    .dataframe tbody tr th:only-of-type {\n",
              "        vertical-align: middle;\n",
              "    }\n",
              "\n",
              "    .dataframe tbody tr th {\n",
              "        vertical-align: top;\n",
              "    }\n",
              "\n",
              "    .dataframe thead th {\n",
              "        text-align: right;\n",
              "    }\n",
              "</style>\n",
              "<table border=\"1\" class=\"dataframe\">\n",
              "  <thead>\n",
              "    <tr style=\"text-align: right;\">\n",
              "      <th></th>\n",
              "      <th>id_policy</th>\n",
              "      <th>year</th>\n",
              "      <th>pol_no_claims_discount</th>\n",
              "      <th>pol_duration</th>\n",
              "      <th>pol_sit_duration</th>\n",
              "      <th>pol_payd</th>\n",
              "      <th>drv_sex1</th>\n",
              "      <th>drv_age1</th>\n",
              "      <th>drv_age_lic1</th>\n",
              "      <th>vh_make_model</th>\n",
              "      <th>vh_age</th>\n",
              "      <th>vh_type</th>\n",
              "      <th>vh_speed</th>\n",
              "      <th>vh_value</th>\n",
              "      <th>vh_weight</th>\n",
              "      <th>population</th>\n",
              "      <th>town_surface_area</th>\n",
              "      <th>pol_coverage_Max</th>\n",
              "      <th>pol_coverage_Med1</th>\n",
              "      <th>pol_coverage_Med2</th>\n",
              "      <th>pol_coverage_Min</th>\n",
              "      <th>pol_pay_freq_Biannual</th>\n",
              "      <th>pol_pay_freq_Monthly</th>\n",
              "      <th>pol_pay_freq_Quarterly</th>\n",
              "      <th>pol_pay_freq_Yearly</th>\n",
              "      <th>pol_usage_AllTrips</th>\n",
              "      <th>pol_usage_Professional</th>\n",
              "      <th>pol_usage_Retired</th>\n",
              "      <th>pol_usage_WorkPrivate</th>\n",
              "      <th>drv_drv2_0</th>\n",
              "      <th>drv_drv2_1</th>\n",
              "      <th>vh_fuel_Diesel</th>\n",
              "      <th>vh_fuel_Gasoline</th>\n",
              "      <th>vh_fuel_Hybrid</th>\n",
              "    </tr>\n",
              "  </thead>\n",
              "  <tbody>\n",
              "    <tr>\n",
              "      <th>0</th>\n",
              "      <td>PL000000</td>\n",
              "      <td>1.0</td>\n",
              "      <td>0.332</td>\n",
              "      <td>-0.461538</td>\n",
              "      <td>-1.5</td>\n",
              "      <td>0</td>\n",
              "      <td>1</td>\n",
              "      <td>-0.954545</td>\n",
              "      <td>-0.90</td>\n",
              "      <td>aparvvfowrjncdhp</td>\n",
              "      <td>-0.222222</td>\n",
              "      <td>1</td>\n",
              "      <td>0.000000</td>\n",
              "      <td>-0.500615</td>\n",
              "      <td>0.000000</td>\n",
              "      <td>2.159091</td>\n",
              "      <td>-0.592233</td>\n",
              "      <td>0</td>\n",
              "      <td>0</td>\n",
              "      <td>1</td>\n",
              "      <td>0</td>\n",
              "      <td>0</td>\n",
              "      <td>1</td>\n",
              "      <td>0</td>\n",
              "      <td>0</td>\n",
              "      <td>0</td>\n",
              "      <td>0</td>\n",
              "      <td>0</td>\n",
              "      <td>1</td>\n",
              "      <td>0</td>\n",
              "      <td>1</td>\n",
              "      <td>0</td>\n",
              "      <td>1</td>\n",
              "      <td>0</td>\n",
              "    </tr>\n",
              "    <tr>\n",
              "      <th>1</th>\n",
              "      <td>PL042495</td>\n",
              "      <td>1.0</td>\n",
              "      <td>0.000</td>\n",
              "      <td>-0.384615</td>\n",
              "      <td>-1.5</td>\n",
              "      <td>0</td>\n",
              "      <td>1</td>\n",
              "      <td>0.181818</td>\n",
              "      <td>0.35</td>\n",
              "      <td>aparvvfowrjncdhp</td>\n",
              "      <td>0.000000</td>\n",
              "      <td>1</td>\n",
              "      <td>0.000000</td>\n",
              "      <td>-0.500615</td>\n",
              "      <td>0.000000</td>\n",
              "      <td>2.204545</td>\n",
              "      <td>-0.503883</td>\n",
              "      <td>0</td>\n",
              "      <td>0</td>\n",
              "      <td>1</td>\n",
              "      <td>0</td>\n",
              "      <td>0</td>\n",
              "      <td>1</td>\n",
              "      <td>0</td>\n",
              "      <td>0</td>\n",
              "      <td>0</td>\n",
              "      <td>0</td>\n",
              "      <td>0</td>\n",
              "      <td>1</td>\n",
              "      <td>1</td>\n",
              "      <td>0</td>\n",
              "      <td>1</td>\n",
              "      <td>0</td>\n",
              "      <td>0</td>\n",
              "    </tr>\n",
              "    <tr>\n",
              "      <th>2</th>\n",
              "      <td>PL042496</td>\n",
              "      <td>1.0</td>\n",
              "      <td>0.196</td>\n",
              "      <td>-0.692308</td>\n",
              "      <td>-1.5</td>\n",
              "      <td>1</td>\n",
              "      <td>1</td>\n",
              "      <td>-0.045455</td>\n",
              "      <td>0.05</td>\n",
              "      <td>iwhqpdfuhrsxyqxe</td>\n",
              "      <td>-0.222222</td>\n",
              "      <td>0</td>\n",
              "      <td>-0.857143</td>\n",
              "      <td>-0.205729</td>\n",
              "      <td>0.138122</td>\n",
              "      <td>1.590909</td>\n",
              "      <td>0.522816</td>\n",
              "      <td>0</td>\n",
              "      <td>1</td>\n",
              "      <td>0</td>\n",
              "      <td>0</td>\n",
              "      <td>0</td>\n",
              "      <td>0</td>\n",
              "      <td>0</td>\n",
              "      <td>1</td>\n",
              "      <td>0</td>\n",
              "      <td>0</td>\n",
              "      <td>1</td>\n",
              "      <td>0</td>\n",
              "      <td>0</td>\n",
              "      <td>1</td>\n",
              "      <td>1</td>\n",
              "      <td>0</td>\n",
              "      <td>0</td>\n",
              "    </tr>\n",
              "    <tr>\n",
              "      <th>3</th>\n",
              "      <td>PL042497</td>\n",
              "      <td>1.0</td>\n",
              "      <td>0.000</td>\n",
              "      <td>-0.230769</td>\n",
              "      <td>0.5</td>\n",
              "      <td>0</td>\n",
              "      <td>0</td>\n",
              "      <td>-0.090909</td>\n",
              "      <td>-0.15</td>\n",
              "      <td>kvcddisqpkysmvvo</td>\n",
              "      <td>-0.666667</td>\n",
              "      <td>1</td>\n",
              "      <td>-0.892857</td>\n",
              "      <td>0.084901</td>\n",
              "      <td>-0.361878</td>\n",
              "      <td>-0.318182</td>\n",
              "      <td>0.313592</td>\n",
              "      <td>0</td>\n",
              "      <td>0</td>\n",
              "      <td>1</td>\n",
              "      <td>0</td>\n",
              "      <td>0</td>\n",
              "      <td>0</td>\n",
              "      <td>0</td>\n",
              "      <td>1</td>\n",
              "      <td>0</td>\n",
              "      <td>0</td>\n",
              "      <td>0</td>\n",
              "      <td>1</td>\n",
              "      <td>1</td>\n",
              "      <td>0</td>\n",
              "      <td>0</td>\n",
              "      <td>1</td>\n",
              "      <td>0</td>\n",
              "    </tr>\n",
              "    <tr>\n",
              "      <th>4</th>\n",
              "      <td>PL042498</td>\n",
              "      <td>1.0</td>\n",
              "      <td>0.000</td>\n",
              "      <td>-0.692308</td>\n",
              "      <td>-1.0</td>\n",
              "      <td>0</td>\n",
              "      <td>0</td>\n",
              "      <td>0.409091</td>\n",
              "      <td>0.20</td>\n",
              "      <td>tdgkjlphosocwbgu</td>\n",
              "      <td>0.333333</td>\n",
              "      <td>1</td>\n",
              "      <td>0.928571</td>\n",
              "      <td>0.291860</td>\n",
              "      <td>0.475138</td>\n",
              "      <td>-0.659091</td>\n",
              "      <td>-0.411650</td>\n",
              "      <td>0</td>\n",
              "      <td>1</td>\n",
              "      <td>0</td>\n",
              "      <td>0</td>\n",
              "      <td>0</td>\n",
              "      <td>0</td>\n",
              "      <td>0</td>\n",
              "      <td>1</td>\n",
              "      <td>0</td>\n",
              "      <td>0</td>\n",
              "      <td>1</td>\n",
              "      <td>0</td>\n",
              "      <td>1</td>\n",
              "      <td>0</td>\n",
              "      <td>0</td>\n",
              "      <td>1</td>\n",
              "      <td>0</td>\n",
              "    </tr>\n",
              "    <tr>\n",
              "      <th>...</th>\n",
              "      <td>...</td>\n",
              "      <td>...</td>\n",
              "      <td>...</td>\n",
              "      <td>...</td>\n",
              "      <td>...</td>\n",
              "      <td>...</td>\n",
              "      <td>...</td>\n",
              "      <td>...</td>\n",
              "      <td>...</td>\n",
              "      <td>...</td>\n",
              "      <td>...</td>\n",
              "      <td>...</td>\n",
              "      <td>...</td>\n",
              "      <td>...</td>\n",
              "      <td>...</td>\n",
              "      <td>...</td>\n",
              "      <td>...</td>\n",
              "      <td>...</td>\n",
              "      <td>...</td>\n",
              "      <td>...</td>\n",
              "      <td>...</td>\n",
              "      <td>...</td>\n",
              "      <td>...</td>\n",
              "      <td>...</td>\n",
              "      <td>...</td>\n",
              "      <td>...</td>\n",
              "      <td>...</td>\n",
              "      <td>...</td>\n",
              "      <td>...</td>\n",
              "      <td>...</td>\n",
              "      <td>...</td>\n",
              "      <td>...</td>\n",
              "      <td>...</td>\n",
              "      <td>...</td>\n",
              "    </tr>\n",
              "    <tr>\n",
              "      <th>228211</th>\n",
              "      <td>PL008818</td>\n",
              "      <td>4.0</td>\n",
              "      <td>0.087</td>\n",
              "      <td>-0.538462</td>\n",
              "      <td>0.0</td>\n",
              "      <td>0</td>\n",
              "      <td>0</td>\n",
              "      <td>-0.272727</td>\n",
              "      <td>-0.30</td>\n",
              "      <td>ubttjiaeeuwzcclq</td>\n",
              "      <td>0.555556</td>\n",
              "      <td>1</td>\n",
              "      <td>0.178571</td>\n",
              "      <td>-0.027229</td>\n",
              "      <td>-0.519337</td>\n",
              "      <td>1.613636</td>\n",
              "      <td>-0.290291</td>\n",
              "      <td>0</td>\n",
              "      <td>0</td>\n",
              "      <td>1</td>\n",
              "      <td>0</td>\n",
              "      <td>0</td>\n",
              "      <td>1</td>\n",
              "      <td>0</td>\n",
              "      <td>0</td>\n",
              "      <td>0</td>\n",
              "      <td>0</td>\n",
              "      <td>0</td>\n",
              "      <td>1</td>\n",
              "      <td>0</td>\n",
              "      <td>1</td>\n",
              "      <td>1</td>\n",
              "      <td>0</td>\n",
              "      <td>0</td>\n",
              "    </tr>\n",
              "    <tr>\n",
              "      <th>228212</th>\n",
              "      <td>PL055033</td>\n",
              "      <td>4.0</td>\n",
              "      <td>0.000</td>\n",
              "      <td>0.230769</td>\n",
              "      <td>0.5</td>\n",
              "      <td>0</td>\n",
              "      <td>1</td>\n",
              "      <td>-0.727273</td>\n",
              "      <td>-0.60</td>\n",
              "      <td>gfhjqtkgvomiygvx</td>\n",
              "      <td>-0.555556</td>\n",
              "      <td>1</td>\n",
              "      <td>-1.250000</td>\n",
              "      <td>-0.411270</td>\n",
              "      <td>0.334254</td>\n",
              "      <td>-0.659091</td>\n",
              "      <td>-0.317961</td>\n",
              "      <td>1</td>\n",
              "      <td>0</td>\n",
              "      <td>0</td>\n",
              "      <td>0</td>\n",
              "      <td>0</td>\n",
              "      <td>1</td>\n",
              "      <td>0</td>\n",
              "      <td>0</td>\n",
              "      <td>0</td>\n",
              "      <td>0</td>\n",
              "      <td>0</td>\n",
              "      <td>1</td>\n",
              "      <td>0</td>\n",
              "      <td>1</td>\n",
              "      <td>1</td>\n",
              "      <td>0</td>\n",
              "      <td>0</td>\n",
              "    </tr>\n",
              "    <tr>\n",
              "      <th>228213</th>\n",
              "      <td>PL061619</td>\n",
              "      <td>4.0</td>\n",
              "      <td>0.181</td>\n",
              "      <td>-0.076923</td>\n",
              "      <td>0.0</td>\n",
              "      <td>0</td>\n",
              "      <td>0</td>\n",
              "      <td>0.681818</td>\n",
              "      <td>0.15</td>\n",
              "      <td>swjkmyqytzxjwgag</td>\n",
              "      <td>0.555556</td>\n",
              "      <td>1</td>\n",
              "      <td>0.035714</td>\n",
              "      <td>0.715231</td>\n",
              "      <td>0.392265</td>\n",
              "      <td>-0.068182</td>\n",
              "      <td>-0.237864</td>\n",
              "      <td>1</td>\n",
              "      <td>0</td>\n",
              "      <td>0</td>\n",
              "      <td>0</td>\n",
              "      <td>0</td>\n",
              "      <td>0</td>\n",
              "      <td>0</td>\n",
              "      <td>1</td>\n",
              "      <td>0</td>\n",
              "      <td>0</td>\n",
              "      <td>1</td>\n",
              "      <td>0</td>\n",
              "      <td>1</td>\n",
              "      <td>0</td>\n",
              "      <td>0</td>\n",
              "      <td>1</td>\n",
              "      <td>0</td>\n",
              "    </tr>\n",
              "    <tr>\n",
              "      <th>228214</th>\n",
              "      <td>PL060903</td>\n",
              "      <td>4.0</td>\n",
              "      <td>0.000</td>\n",
              "      <td>1.076923</td>\n",
              "      <td>5.5</td>\n",
              "      <td>0</td>\n",
              "      <td>1</td>\n",
              "      <td>-0.318182</td>\n",
              "      <td>-0.15</td>\n",
              "      <td>ponwkmeaxagundzq</td>\n",
              "      <td>2.333333</td>\n",
              "      <td>1</td>\n",
              "      <td>0.857143</td>\n",
              "      <td>0.346696</td>\n",
              "      <td>0.488950</td>\n",
              "      <td>-0.659091</td>\n",
              "      <td>-0.246117</td>\n",
              "      <td>1</td>\n",
              "      <td>0</td>\n",
              "      <td>0</td>\n",
              "      <td>0</td>\n",
              "      <td>1</td>\n",
              "      <td>0</td>\n",
              "      <td>0</td>\n",
              "      <td>0</td>\n",
              "      <td>0</td>\n",
              "      <td>1</td>\n",
              "      <td>0</td>\n",
              "      <td>0</td>\n",
              "      <td>1</td>\n",
              "      <td>0</td>\n",
              "      <td>1</td>\n",
              "      <td>0</td>\n",
              "      <td>0</td>\n",
              "    </tr>\n",
              "    <tr>\n",
              "      <th>228215</th>\n",
              "      <td>PL052240</td>\n",
              "      <td>4.0</td>\n",
              "      <td>0.000</td>\n",
              "      <td>-0.307692</td>\n",
              "      <td>1.0</td>\n",
              "      <td>0</td>\n",
              "      <td>0</td>\n",
              "      <td>0.318182</td>\n",
              "      <td>-0.10</td>\n",
              "      <td>iwhqpdfuhrsxyqxe</td>\n",
              "      <td>-0.333333</td>\n",
              "      <td>1</td>\n",
              "      <td>-0.857143</td>\n",
              "      <td>-0.205729</td>\n",
              "      <td>0.138122</td>\n",
              "      <td>-0.090909</td>\n",
              "      <td>-0.035437</td>\n",
              "      <td>1</td>\n",
              "      <td>0</td>\n",
              "      <td>0</td>\n",
              "      <td>0</td>\n",
              "      <td>1</td>\n",
              "      <td>0</td>\n",
              "      <td>0</td>\n",
              "      <td>0</td>\n",
              "      <td>0</td>\n",
              "      <td>0</td>\n",
              "      <td>0</td>\n",
              "      <td>1</td>\n",
              "      <td>0</td>\n",
              "      <td>1</td>\n",
              "      <td>1</td>\n",
              "      <td>0</td>\n",
              "      <td>0</td>\n",
              "    </tr>\n",
              "  </tbody>\n",
              "</table>\n",
              "<p>228216 rows × 34 columns</p>\n",
              "</div>"
            ],
            "text/plain": [
              "       id_policy  year  ...  vh_fuel_Gasoline  vh_fuel_Hybrid\n",
              "0       PL000000   1.0  ...                 1               0\n",
              "1       PL042495   1.0  ...                 0               0\n",
              "2       PL042496   1.0  ...                 0               0\n",
              "3       PL042497   1.0  ...                 1               0\n",
              "4       PL042498   1.0  ...                 1               0\n",
              "...          ...   ...  ...               ...             ...\n",
              "228211  PL008818   4.0  ...                 0               0\n",
              "228212  PL055033   4.0  ...                 0               0\n",
              "228213  PL061619   4.0  ...                 1               0\n",
              "228214  PL060903   4.0  ...                 0               0\n",
              "228215  PL052240   4.0  ...                 0               0\n",
              "\n",
              "[228216 rows x 34 columns]"
            ]
          },
          "metadata": {
            "tags": []
          },
          "execution_count": 30
        }
      ]
    },
    {
      "cell_type": "markdown",
      "metadata": {
        "id": "FThDjPdbMRvn"
      },
      "source": [
        "#### Deal with Missing Values"
      ]
    },
    {
      "cell_type": "code",
      "metadata": {
        "id": "X_k2N3KC6w_O"
      },
      "source": [
        "# well over 50% of drv_age2 and drv_age_lic2 are missing, so it is best practice\r\n",
        "# to drop them\r\n",
        "X_train.drop(columns=['drv_age2', 'drv_age_lic2'], inplace=True)"
      ],
      "execution_count": null,
      "outputs": []
    },
    {
      "cell_type": "code",
      "metadata": {
        "id": "9zvGA_YLTsxv"
      },
      "source": [
        "# from sklearn.impute import KNNImputer\r\n",
        "# from sklearn.impute import SimpleImputer\r\n",
        "imputer = KNNImputer()\r\n",
        "# imputer = SimpleImputer(strategy='median')"
      ],
      "execution_count": null,
      "outputs": []
    },
    {
      "cell_type": "code",
      "metadata": {
        "id": "1o_iSGg-VBap"
      },
      "source": [
        "X_train['vh_speed'] = imputer.fit_transform(X_train[['vh_speed']])\r\n",
        "X_train['vh_value'] = imputer.fit_transform(X_train[['vh_value']])\r\n",
        "X_train['vh_weight'] = imputer.fit_transform(X_train[['vh_weight']])\r\n",
        "X_train['vh_age'] = imputer.fit_transform(X_train[['vh_age']])"
      ],
      "execution_count": null,
      "outputs": []
    },
    {
      "cell_type": "code",
      "metadata": {
        "colab": {
          "base_uri": "https://localhost:8080/"
        },
        "id": "gURXMSAuTriE",
        "outputId": "ec8beb56-2368-490b-a871-d60c5305955f"
      },
      "source": [
        "# Check that there are no missing values\r\n",
        "X_train.isnull().sum()"
      ],
      "execution_count": null,
      "outputs": [
        {
          "output_type": "execute_result",
          "data": {
            "text/plain": [
              "id_policy                 0\n",
              "year                      0\n",
              "pol_no_claims_discount    0\n",
              "pol_coverage              0\n",
              "pol_duration              0\n",
              "pol_sit_duration          0\n",
              "pol_pay_freq              0\n",
              "pol_payd                  0\n",
              "pol_usage                 0\n",
              "drv_sex1                  0\n",
              "drv_age1                  0\n",
              "drv_age_lic1              0\n",
              "drv_drv2                  0\n",
              "drv_sex2                  0\n",
              "vh_make_model             0\n",
              "vh_age                    0\n",
              "vh_fuel                   0\n",
              "vh_type                   0\n",
              "vh_speed                  0\n",
              "vh_value                  0\n",
              "vh_weight                 0\n",
              "population                0\n",
              "town_surface_area         0\n",
              "dtype: int64"
            ]
          },
          "metadata": {
            "tags": []
          },
          "execution_count": 23
        }
      ]
    },
    {
      "cell_type": "markdown",
      "metadata": {
        "id": "bdQkpdwUBiIq"
      },
      "source": [
        "#### Scaling"
      ]
    },
    {
      "cell_type": "code",
      "metadata": {
        "colab": {
          "base_uri": "https://localhost:8080/",
          "height": 224
        },
        "id": "yeyiowSdC20z",
        "outputId": "3c3104aa-c5db-4c85-9407-28301b2e6be5"
      },
      "source": [
        "X_train.head()"
      ],
      "execution_count": null,
      "outputs": [
        {
          "output_type": "execute_result",
          "data": {
            "text/html": [
              "<div>\n",
              "<style scoped>\n",
              "    .dataframe tbody tr th:only-of-type {\n",
              "        vertical-align: middle;\n",
              "    }\n",
              "\n",
              "    .dataframe tbody tr th {\n",
              "        vertical-align: top;\n",
              "    }\n",
              "\n",
              "    .dataframe thead th {\n",
              "        text-align: right;\n",
              "    }\n",
              "</style>\n",
              "<table border=\"1\" class=\"dataframe\">\n",
              "  <thead>\n",
              "    <tr style=\"text-align: right;\">\n",
              "      <th></th>\n",
              "      <th>id_policy</th>\n",
              "      <th>year</th>\n",
              "      <th>pol_no_claims_discount</th>\n",
              "      <th>pol_coverage</th>\n",
              "      <th>pol_duration</th>\n",
              "      <th>pol_sit_duration</th>\n",
              "      <th>pol_pay_freq</th>\n",
              "      <th>pol_payd</th>\n",
              "      <th>pol_usage</th>\n",
              "      <th>drv_sex1</th>\n",
              "      <th>drv_age1</th>\n",
              "      <th>drv_age_lic1</th>\n",
              "      <th>drv_drv2</th>\n",
              "      <th>drv_sex2</th>\n",
              "      <th>vh_make_model</th>\n",
              "      <th>vh_age</th>\n",
              "      <th>vh_fuel</th>\n",
              "      <th>vh_type</th>\n",
              "      <th>vh_speed</th>\n",
              "      <th>vh_value</th>\n",
              "      <th>vh_weight</th>\n",
              "      <th>population</th>\n",
              "      <th>town_surface_area</th>\n",
              "    </tr>\n",
              "  </thead>\n",
              "  <tbody>\n",
              "    <tr>\n",
              "      <th>0</th>\n",
              "      <td>PL000000</td>\n",
              "      <td>1.0</td>\n",
              "      <td>0.332</td>\n",
              "      <td>Med2</td>\n",
              "      <td>5</td>\n",
              "      <td>1</td>\n",
              "      <td>Monthly</td>\n",
              "      <td>No</td>\n",
              "      <td>WorkPrivate</td>\n",
              "      <td>M</td>\n",
              "      <td>35.0</td>\n",
              "      <td>16.0</td>\n",
              "      <td>Yes</td>\n",
              "      <td>F</td>\n",
              "      <td>aparvvfowrjncdhp</td>\n",
              "      <td>8.0</td>\n",
              "      <td>Gasoline</td>\n",
              "      <td>Tourism</td>\n",
              "      <td>174.0</td>\n",
              "      <td>11040.0</td>\n",
              "      <td>1143.0</td>\n",
              "      <td>1270.0</td>\n",
              "      <td>33.1</td>\n",
              "    </tr>\n",
              "    <tr>\n",
              "      <th>1</th>\n",
              "      <td>PL042495</td>\n",
              "      <td>1.0</td>\n",
              "      <td>0.000</td>\n",
              "      <td>Med2</td>\n",
              "      <td>6</td>\n",
              "      <td>1</td>\n",
              "      <td>Monthly</td>\n",
              "      <td>No</td>\n",
              "      <td>WorkPrivate</td>\n",
              "      <td>M</td>\n",
              "      <td>60.0</td>\n",
              "      <td>41.0</td>\n",
              "      <td>No</td>\n",
              "      <td>0</td>\n",
              "      <td>aparvvfowrjncdhp</td>\n",
              "      <td>10.0</td>\n",
              "      <td>Diesel</td>\n",
              "      <td>Tourism</td>\n",
              "      <td>174.0</td>\n",
              "      <td>11040.0</td>\n",
              "      <td>1143.0</td>\n",
              "      <td>1290.0</td>\n",
              "      <td>51.3</td>\n",
              "    </tr>\n",
              "    <tr>\n",
              "      <th>2</th>\n",
              "      <td>PL042496</td>\n",
              "      <td>1.0</td>\n",
              "      <td>0.196</td>\n",
              "      <td>Med1</td>\n",
              "      <td>2</td>\n",
              "      <td>1</td>\n",
              "      <td>Yearly</td>\n",
              "      <td>Yes</td>\n",
              "      <td>Retired</td>\n",
              "      <td>M</td>\n",
              "      <td>55.0</td>\n",
              "      <td>35.0</td>\n",
              "      <td>Yes</td>\n",
              "      <td>F</td>\n",
              "      <td>iwhqpdfuhrsxyqxe</td>\n",
              "      <td>8.0</td>\n",
              "      <td>Diesel</td>\n",
              "      <td>Commercial</td>\n",
              "      <td>150.0</td>\n",
              "      <td>14159.0</td>\n",
              "      <td>1193.0</td>\n",
              "      <td>1020.0</td>\n",
              "      <td>262.8</td>\n",
              "    </tr>\n",
              "    <tr>\n",
              "      <th>3</th>\n",
              "      <td>PL042497</td>\n",
              "      <td>1.0</td>\n",
              "      <td>0.000</td>\n",
              "      <td>Med2</td>\n",
              "      <td>8</td>\n",
              "      <td>5</td>\n",
              "      <td>Yearly</td>\n",
              "      <td>No</td>\n",
              "      <td>WorkPrivate</td>\n",
              "      <td>F</td>\n",
              "      <td>54.0</td>\n",
              "      <td>31.0</td>\n",
              "      <td>No</td>\n",
              "      <td>0</td>\n",
              "      <td>kvcddisqpkysmvvo</td>\n",
              "      <td>4.0</td>\n",
              "      <td>Gasoline</td>\n",
              "      <td>Tourism</td>\n",
              "      <td>149.0</td>\n",
              "      <td>17233.0</td>\n",
              "      <td>1012.0</td>\n",
              "      <td>180.0</td>\n",
              "      <td>219.7</td>\n",
              "    </tr>\n",
              "    <tr>\n",
              "      <th>4</th>\n",
              "      <td>PL042498</td>\n",
              "      <td>1.0</td>\n",
              "      <td>0.000</td>\n",
              "      <td>Med1</td>\n",
              "      <td>2</td>\n",
              "      <td>2</td>\n",
              "      <td>Yearly</td>\n",
              "      <td>No</td>\n",
              "      <td>Retired</td>\n",
              "      <td>F</td>\n",
              "      <td>65.0</td>\n",
              "      <td>38.0</td>\n",
              "      <td>No</td>\n",
              "      <td>0</td>\n",
              "      <td>tdgkjlphosocwbgu</td>\n",
              "      <td>13.0</td>\n",
              "      <td>Gasoline</td>\n",
              "      <td>Tourism</td>\n",
              "      <td>200.0</td>\n",
              "      <td>19422.0</td>\n",
              "      <td>1315.0</td>\n",
              "      <td>30.0</td>\n",
              "      <td>70.3</td>\n",
              "    </tr>\n",
              "  </tbody>\n",
              "</table>\n",
              "</div>"
            ],
            "text/plain": [
              "  id_policy  year  ...  population town_surface_area\n",
              "0  PL000000   1.0  ...      1270.0              33.1\n",
              "1  PL042495   1.0  ...      1290.0              51.3\n",
              "2  PL042496   1.0  ...      1020.0             262.8\n",
              "3  PL042497   1.0  ...       180.0             219.7\n",
              "4  PL042498   1.0  ...        30.0              70.3\n",
              "\n",
              "[5 rows x 23 columns]"
            ]
          },
          "metadata": {
            "tags": []
          },
          "execution_count": 24
        }
      ]
    },
    {
      "cell_type": "code",
      "metadata": {
        "colab": {
          "base_uri": "https://localhost:8080/",
          "height": 266
        },
        "id": "0Ua0uA66N2JC",
        "outputId": "7b244a1a-cd2d-45a2-8d7c-5bb61787b87f"
      },
      "source": [
        "%matplotlib inline\r\n",
        "import matplotlib.pyplot as plt\r\n",
        "# plt.boxplot(X_train['pol_duration'])\r\n",
        "X_train.boxplot(column=['town_surface_area'])  # alternative plot\r\n",
        "plt.show()"
      ],
      "execution_count": null,
      "outputs": [
        {
          "output_type": "display_data",
          "data": {
            "image/png": "[encoded data removed]",
            "text/plain": [
              "<Figure size 432x288 with 1 Axes>"
            ]
          },
          "metadata": {
            "tags": [],
            "needs_background": "light"
          }
        }
      ]
    },
    {
      "cell_type": "code",
      "metadata": {
        "colab": {
          "base_uri": "https://localhost:8080/"
        },
        "id": "v5rtuCXoCuKG",
        "outputId": "6d79a9e0-8790-471e-adef-e68a91b7af7d"
      },
      "source": [
        "# Scale all using Robust for now\r\n",
        "scale_columns = ['pol_duration', 'pol_sit_duration', 'drv_age1', 'drv_age_lic1', 'vh_age', 'vh_speed', 'vh_value', 'vh_weight', 'population', 'town_surface_area']\r\n",
        "scale_columns"
      ],
      "execution_count": null,
      "outputs": [
        {
          "output_type": "execute_result",
          "data": {
            "text/plain": [
              "['pol_duration',\n",
              " 'pol_sit_duration',\n",
              " 'drv_age1',\n",
              " 'drv_age_lic1',\n",
              " 'vh_age',\n",
              " 'vh_speed',\n",
              " 'vh_value',\n",
              " 'vh_weight',\n",
              " 'population',\n",
              " 'town_surface_area']"
            ]
          },
          "metadata": {
            "tags": []
          },
          "execution_count": 26
        }
      ]
    },
    {
      "cell_type": "code",
      "metadata": {
        "id": "k7s8oqxJH5yd"
      },
      "source": [
        "df_copy = X_train"
      ],
      "execution_count": null,
      "outputs": []
    },
    {
      "cell_type": "code",
      "metadata": {
        "colab": {
          "base_uri": "https://localhost:8080/",
          "height": 439
        },
        "id": "vCWCg1vQHQry",
        "outputId": "295612a3-ed9e-4448-f7a0-2cff8327cd09"
      },
      "source": [
        "# from sklearn.preprocessing import RobustScaler\r\n",
        "# robust_scaler = RobustScaler()\r\n",
        "df_copy[scale_columns] = robust_scaler.fit_transform(df_copy[scale_columns])\r\n",
        "df_copy"
      ],
      "execution_count": null,
      "outputs": [
        {
          "output_type": "execute_result",
          "data": {
            "text/html": [
              "<div>\n",
              "<style scoped>\n",
              "    .dataframe tbody tr th:only-of-type {\n",
              "        vertical-align: middle;\n",
              "    }\n",
              "\n",
              "    .dataframe tbody tr th {\n",
              "        vertical-align: top;\n",
              "    }\n",
              "\n",
              "    .dataframe thead th {\n",
              "        text-align: right;\n",
              "    }\n",
              "</style>\n",
              "<table border=\"1\" class=\"dataframe\">\n",
              "  <thead>\n",
              "    <tr style=\"text-align: right;\">\n",
              "      <th></th>\n",
              "      <th>id_policy</th>\n",
              "      <th>year</th>\n",
              "      <th>pol_no_claims_discount</th>\n",
              "      <th>pol_coverage</th>\n",
              "      <th>pol_duration</th>\n",
              "      <th>pol_sit_duration</th>\n",
              "      <th>pol_pay_freq</th>\n",
              "      <th>pol_payd</th>\n",
              "      <th>pol_usage</th>\n",
              "      <th>drv_sex1</th>\n",
              "      <th>drv_age1</th>\n",
              "      <th>drv_age_lic1</th>\n",
              "      <th>drv_drv2</th>\n",
              "      <th>drv_sex2</th>\n",
              "      <th>vh_make_model</th>\n",
              "      <th>vh_age</th>\n",
              "      <th>vh_fuel</th>\n",
              "      <th>vh_type</th>\n",
              "      <th>vh_speed</th>\n",
              "      <th>vh_value</th>\n",
              "      <th>vh_weight</th>\n",
              "      <th>population</th>\n",
              "      <th>town_surface_area</th>\n",
              "    </tr>\n",
              "  </thead>\n",
              "  <tbody>\n",
              "    <tr>\n",
              "      <th>0</th>\n",
              "      <td>PL000000</td>\n",
              "      <td>1.0</td>\n",
              "      <td>0.332</td>\n",
              "      <td>Med2</td>\n",
              "      <td>-0.461538</td>\n",
              "      <td>-1.5</td>\n",
              "      <td>Monthly</td>\n",
              "      <td>No</td>\n",
              "      <td>WorkPrivate</td>\n",
              "      <td>M</td>\n",
              "      <td>-0.954545</td>\n",
              "      <td>-0.90</td>\n",
              "      <td>Yes</td>\n",
              "      <td>F</td>\n",
              "      <td>aparvvfowrjncdhp</td>\n",
              "      <td>-0.222222</td>\n",
              "      <td>Gasoline</td>\n",
              "      <td>Tourism</td>\n",
              "      <td>0.000000</td>\n",
              "      <td>-0.500615</td>\n",
              "      <td>0.000000</td>\n",
              "      <td>2.159091</td>\n",
              "      <td>-0.592233</td>\n",
              "    </tr>\n",
              "    <tr>\n",
              "      <th>1</th>\n",
              "      <td>PL042495</td>\n",
              "      <td>1.0</td>\n",
              "      <td>0.000</td>\n",
              "      <td>Med2</td>\n",
              "      <td>-0.384615</td>\n",
              "      <td>-1.5</td>\n",
              "      <td>Monthly</td>\n",
              "      <td>No</td>\n",
              "      <td>WorkPrivate</td>\n",
              "      <td>M</td>\n",
              "      <td>0.181818</td>\n",
              "      <td>0.35</td>\n",
              "      <td>No</td>\n",
              "      <td>0</td>\n",
              "      <td>aparvvfowrjncdhp</td>\n",
              "      <td>0.000000</td>\n",
              "      <td>Diesel</td>\n",
              "      <td>Tourism</td>\n",
              "      <td>0.000000</td>\n",
              "      <td>-0.500615</td>\n",
              "      <td>0.000000</td>\n",
              "      <td>2.204545</td>\n",
              "      <td>-0.503883</td>\n",
              "    </tr>\n",
              "    <tr>\n",
              "      <th>2</th>\n",
              "      <td>PL042496</td>\n",
              "      <td>1.0</td>\n",
              "      <td>0.196</td>\n",
              "      <td>Med1</td>\n",
              "      <td>-0.692308</td>\n",
              "      <td>-1.5</td>\n",
              "      <td>Yearly</td>\n",
              "      <td>Yes</td>\n",
              "      <td>Retired</td>\n",
              "      <td>M</td>\n",
              "      <td>-0.045455</td>\n",
              "      <td>0.05</td>\n",
              "      <td>Yes</td>\n",
              "      <td>F</td>\n",
              "      <td>iwhqpdfuhrsxyqxe</td>\n",
              "      <td>-0.222222</td>\n",
              "      <td>Diesel</td>\n",
              "      <td>Commercial</td>\n",
              "      <td>-0.857143</td>\n",
              "      <td>-0.205729</td>\n",
              "      <td>0.138122</td>\n",
              "      <td>1.590909</td>\n",
              "      <td>0.522816</td>\n",
              "    </tr>\n",
              "    <tr>\n",
              "      <th>3</th>\n",
              "      <td>PL042497</td>\n",
              "      <td>1.0</td>\n",
              "      <td>0.000</td>\n",
              "      <td>Med2</td>\n",
              "      <td>-0.230769</td>\n",
              "      <td>0.5</td>\n",
              "      <td>Yearly</td>\n",
              "      <td>No</td>\n",
              "      <td>WorkPrivate</td>\n",
              "      <td>F</td>\n",
              "      <td>-0.090909</td>\n",
              "      <td>-0.15</td>\n",
              "      <td>No</td>\n",
              "      <td>0</td>\n",
              "      <td>kvcddisqpkysmvvo</td>\n",
              "      <td>-0.666667</td>\n",
              "      <td>Gasoline</td>\n",
              "      <td>Tourism</td>\n",
              "      <td>-0.892857</td>\n",
              "      <td>0.084901</td>\n",
              "      <td>-0.361878</td>\n",
              "      <td>-0.318182</td>\n",
              "      <td>0.313592</td>\n",
              "    </tr>\n",
              "    <tr>\n",
              "      <th>4</th>\n",
              "      <td>PL042498</td>\n",
              "      <td>1.0</td>\n",
              "      <td>0.000</td>\n",
              "      <td>Med1</td>\n",
              "      <td>-0.692308</td>\n",
              "      <td>-1.0</td>\n",
              "      <td>Yearly</td>\n",
              "      <td>No</td>\n",
              "      <td>Retired</td>\n",
              "      <td>F</td>\n",
              "      <td>0.409091</td>\n",
              "      <td>0.20</td>\n",
              "      <td>No</td>\n",
              "      <td>0</td>\n",
              "      <td>tdgkjlphosocwbgu</td>\n",
              "      <td>0.333333</td>\n",
              "      <td>Gasoline</td>\n",
              "      <td>Tourism</td>\n",
              "      <td>0.928571</td>\n",
              "      <td>0.291860</td>\n",
              "      <td>0.475138</td>\n",
              "      <td>-0.659091</td>\n",
              "      <td>-0.411650</td>\n",
              "    </tr>\n",
              "    <tr>\n",
              "      <th>...</th>\n",
              "      <td>...</td>\n",
              "      <td>...</td>\n",
              "      <td>...</td>\n",
              "      <td>...</td>\n",
              "      <td>...</td>\n",
              "      <td>...</td>\n",
              "      <td>...</td>\n",
              "      <td>...</td>\n",
              "      <td>...</td>\n",
              "      <td>...</td>\n",
              "      <td>...</td>\n",
              "      <td>...</td>\n",
              "      <td>...</td>\n",
              "      <td>...</td>\n",
              "      <td>...</td>\n",
              "      <td>...</td>\n",
              "      <td>...</td>\n",
              "      <td>...</td>\n",
              "      <td>...</td>\n",
              "      <td>...</td>\n",
              "      <td>...</td>\n",
              "      <td>...</td>\n",
              "      <td>...</td>\n",
              "    </tr>\n",
              "    <tr>\n",
              "      <th>228211</th>\n",
              "      <td>PL008818</td>\n",
              "      <td>4.0</td>\n",
              "      <td>0.087</td>\n",
              "      <td>Med2</td>\n",
              "      <td>-0.538462</td>\n",
              "      <td>0.0</td>\n",
              "      <td>Monthly</td>\n",
              "      <td>No</td>\n",
              "      <td>WorkPrivate</td>\n",
              "      <td>F</td>\n",
              "      <td>-0.272727</td>\n",
              "      <td>-0.30</td>\n",
              "      <td>Yes</td>\n",
              "      <td>F</td>\n",
              "      <td>ubttjiaeeuwzcclq</td>\n",
              "      <td>0.555556</td>\n",
              "      <td>Diesel</td>\n",
              "      <td>Tourism</td>\n",
              "      <td>0.178571</td>\n",
              "      <td>-0.027229</td>\n",
              "      <td>-0.519337</td>\n",
              "      <td>1.613636</td>\n",
              "      <td>-0.290291</td>\n",
              "    </tr>\n",
              "    <tr>\n",
              "      <th>228212</th>\n",
              "      <td>PL055033</td>\n",
              "      <td>4.0</td>\n",
              "      <td>0.000</td>\n",
              "      <td>Max</td>\n",
              "      <td>0.230769</td>\n",
              "      <td>0.5</td>\n",
              "      <td>Monthly</td>\n",
              "      <td>No</td>\n",
              "      <td>WorkPrivate</td>\n",
              "      <td>M</td>\n",
              "      <td>-0.727273</td>\n",
              "      <td>-0.60</td>\n",
              "      <td>Yes</td>\n",
              "      <td>F</td>\n",
              "      <td>gfhjqtkgvomiygvx</td>\n",
              "      <td>-0.555556</td>\n",
              "      <td>Diesel</td>\n",
              "      <td>Tourism</td>\n",
              "      <td>-1.250000</td>\n",
              "      <td>-0.411270</td>\n",
              "      <td>0.334254</td>\n",
              "      <td>-0.659091</td>\n",
              "      <td>-0.317961</td>\n",
              "    </tr>\n",
              "    <tr>\n",
              "      <th>228213</th>\n",
              "      <td>PL061619</td>\n",
              "      <td>4.0</td>\n",
              "      <td>0.181</td>\n",
              "      <td>Max</td>\n",
              "      <td>-0.076923</td>\n",
              "      <td>0.0</td>\n",
              "      <td>Yearly</td>\n",
              "      <td>No</td>\n",
              "      <td>Retired</td>\n",
              "      <td>F</td>\n",
              "      <td>0.681818</td>\n",
              "      <td>0.15</td>\n",
              "      <td>No</td>\n",
              "      <td>0</td>\n",
              "      <td>swjkmyqytzxjwgag</td>\n",
              "      <td>0.555556</td>\n",
              "      <td>Gasoline</td>\n",
              "      <td>Tourism</td>\n",
              "      <td>0.035714</td>\n",
              "      <td>0.715231</td>\n",
              "      <td>0.392265</td>\n",
              "      <td>-0.068182</td>\n",
              "      <td>-0.237864</td>\n",
              "    </tr>\n",
              "    <tr>\n",
              "      <th>228214</th>\n",
              "      <td>PL060903</td>\n",
              "      <td>4.0</td>\n",
              "      <td>0.000</td>\n",
              "      <td>Max</td>\n",
              "      <td>1.076923</td>\n",
              "      <td>5.5</td>\n",
              "      <td>Biannual</td>\n",
              "      <td>No</td>\n",
              "      <td>Professional</td>\n",
              "      <td>M</td>\n",
              "      <td>-0.318182</td>\n",
              "      <td>-0.15</td>\n",
              "      <td>No</td>\n",
              "      <td>0</td>\n",
              "      <td>ponwkmeaxagundzq</td>\n",
              "      <td>2.333333</td>\n",
              "      <td>Diesel</td>\n",
              "      <td>Tourism</td>\n",
              "      <td>0.857143</td>\n",
              "      <td>0.346696</td>\n",
              "      <td>0.488950</td>\n",
              "      <td>-0.659091</td>\n",
              "      <td>-0.246117</td>\n",
              "    </tr>\n",
              "    <tr>\n",
              "      <th>228215</th>\n",
              "      <td>PL052240</td>\n",
              "      <td>4.0</td>\n",
              "      <td>0.000</td>\n",
              "      <td>Max</td>\n",
              "      <td>-0.307692</td>\n",
              "      <td>1.0</td>\n",
              "      <td>Biannual</td>\n",
              "      <td>No</td>\n",
              "      <td>WorkPrivate</td>\n",
              "      <td>F</td>\n",
              "      <td>0.318182</td>\n",
              "      <td>-0.10</td>\n",
              "      <td>Yes</td>\n",
              "      <td>M</td>\n",
              "      <td>iwhqpdfuhrsxyqxe</td>\n",
              "      <td>-0.333333</td>\n",
              "      <td>Diesel</td>\n",
              "      <td>Tourism</td>\n",
              "      <td>-0.857143</td>\n",
              "      <td>-0.205729</td>\n",
              "      <td>0.138122</td>\n",
              "      <td>-0.090909</td>\n",
              "      <td>-0.035437</td>\n",
              "    </tr>\n",
              "  </tbody>\n",
              "</table>\n",
              "<p>228216 rows × 23 columns</p>\n",
              "</div>"
            ],
            "text/plain": [
              "       id_policy  year  ...  population town_surface_area\n",
              "0       PL000000   1.0  ...    2.159091         -0.592233\n",
              "1       PL042495   1.0  ...    2.204545         -0.503883\n",
              "2       PL042496   1.0  ...    1.590909          0.522816\n",
              "3       PL042497   1.0  ...   -0.318182          0.313592\n",
              "4       PL042498   1.0  ...   -0.659091         -0.411650\n",
              "...          ...   ...  ...         ...               ...\n",
              "228211  PL008818   4.0  ...    1.613636         -0.290291\n",
              "228212  PL055033   4.0  ...   -0.659091         -0.317961\n",
              "228213  PL061619   4.0  ...   -0.068182         -0.237864\n",
              "228214  PL060903   4.0  ...   -0.659091         -0.246117\n",
              "228215  PL052240   4.0  ...   -0.090909         -0.035437\n",
              "\n",
              "[228216 rows x 23 columns]"
            ]
          },
          "metadata": {
            "tags": []
          },
          "execution_count": 99
        }
      ]
    },
    {
      "cell_type": "markdown",
      "metadata": {
        "id": "WrizHNsYZGB8"
      },
      "source": [
        "#### Encoding"
      ]
    },
    {
      "cell_type": "code",
      "metadata": {
        "id": "eCKNE0LndTHF"
      },
      "source": [
        "# df[['drv_age2', 'drv_age_lic2', 'drv_drv2']]"
      ],
      "execution_count": null,
      "outputs": []
    },
    {
      "cell_type": "code",
      "metadata": {
        "id": "2TBf74DhZgZ8"
      },
      "source": [
        "# inspect values\r\n",
        "# len(df_copy.id_policy)\r\n",
        "df_copy.vh_make_model.unique()\r\n",
        "# len(df_copy.vh_make_model.unique())"
      ],
      "execution_count": null,
      "outputs": []
    },
    {
      "cell_type": "code",
      "metadata": {
        "id": "dg1JwQqvZOFg"
      },
      "source": [
        "# Columns to encode\r\n",
        "encode_columns = ['pol_coverage', 'pol_pay_freq', 'pol_payd', 'pol_usage',\r\n",
        "                  'drv_sex1', 'drv_drv2', 'drv_sex2', #'vh_make_model',\r\n",
        "                  'vh_fuel', 'vh_type']"
      ],
      "execution_count": null,
      "outputs": []
    },
    {
      "cell_type": "code",
      "metadata": {
        "id": "Qb8xN4r4bAb6"
      },
      "source": [
        "# from sklearn.preprocessing import OneHotEncoder\r\n",
        "# ohe = OneHotEncoder(sparse=False)\r\n",
        "# pol_coverage_oh = ohe.fit_transform(df_copy[['pol_coverage']])\r\n",
        "# pol_coverage_oh.T"
      ],
      "execution_count": null,
      "outputs": []
    },
    {
      "cell_type": "code",
      "metadata": {
        "colab": {
          "base_uri": "https://localhost:8080/",
          "height": 439
        },
        "id": "8W3IsDuhssbe",
        "outputId": "c7ea20c9-90c8-43e9-fb47-580734a71240"
      },
      "source": [
        "# pd.get_dummies(df_copy[['pol_coverage']])\r\n",
        "encoded_columns = pd.get_dummies(df_copy[encode_columns])\r\n",
        "encoded_columns\r\n",
        "df_copy"
      ],
      "execution_count": null,
      "outputs": [
        {
          "output_type": "execute_result",
          "data": {
            "text/html": [
              "<div>\n",
              "<style scoped>\n",
              "    .dataframe tbody tr th:only-of-type {\n",
              "        vertical-align: middle;\n",
              "    }\n",
              "\n",
              "    .dataframe tbody tr th {\n",
              "        vertical-align: top;\n",
              "    }\n",
              "\n",
              "    .dataframe thead th {\n",
              "        text-align: right;\n",
              "    }\n",
              "</style>\n",
              "<table border=\"1\" class=\"dataframe\">\n",
              "  <thead>\n",
              "    <tr style=\"text-align: right;\">\n",
              "      <th></th>\n",
              "      <th>id_policy</th>\n",
              "      <th>year</th>\n",
              "      <th>pol_no_claims_discount</th>\n",
              "      <th>pol_coverage</th>\n",
              "      <th>pol_duration</th>\n",
              "      <th>pol_sit_duration</th>\n",
              "      <th>pol_pay_freq</th>\n",
              "      <th>pol_payd</th>\n",
              "      <th>pol_usage</th>\n",
              "      <th>drv_sex1</th>\n",
              "      <th>drv_age1</th>\n",
              "      <th>drv_age_lic1</th>\n",
              "      <th>drv_drv2</th>\n",
              "      <th>drv_sex2</th>\n",
              "      <th>vh_make_model</th>\n",
              "      <th>vh_age</th>\n",
              "      <th>vh_fuel</th>\n",
              "      <th>vh_type</th>\n",
              "      <th>vh_speed</th>\n",
              "      <th>vh_value</th>\n",
              "      <th>vh_weight</th>\n",
              "      <th>population</th>\n",
              "      <th>town_surface_area</th>\n",
              "    </tr>\n",
              "  </thead>\n",
              "  <tbody>\n",
              "    <tr>\n",
              "      <th>0</th>\n",
              "      <td>PL000000</td>\n",
              "      <td>1.0</td>\n",
              "      <td>0.332</td>\n",
              "      <td>Med2</td>\n",
              "      <td>-0.461538</td>\n",
              "      <td>-1.5</td>\n",
              "      <td>Monthly</td>\n",
              "      <td>No</td>\n",
              "      <td>WorkPrivate</td>\n",
              "      <td>M</td>\n",
              "      <td>-0.954545</td>\n",
              "      <td>-0.90</td>\n",
              "      <td>Yes</td>\n",
              "      <td>F</td>\n",
              "      <td>aparvvfowrjncdhp</td>\n",
              "      <td>-0.222222</td>\n",
              "      <td>Gasoline</td>\n",
              "      <td>Tourism</td>\n",
              "      <td>0.000000</td>\n",
              "      <td>-0.500615</td>\n",
              "      <td>0.000000</td>\n",
              "      <td>2.159091</td>\n",
              "      <td>-0.592233</td>\n",
              "    </tr>\n",
              "    <tr>\n",
              "      <th>1</th>\n",
              "      <td>PL042495</td>\n",
              "      <td>1.0</td>\n",
              "      <td>0.000</td>\n",
              "      <td>Med2</td>\n",
              "      <td>-0.384615</td>\n",
              "      <td>-1.5</td>\n",
              "      <td>Monthly</td>\n",
              "      <td>No</td>\n",
              "      <td>WorkPrivate</td>\n",
              "      <td>M</td>\n",
              "      <td>0.181818</td>\n",
              "      <td>0.35</td>\n",
              "      <td>No</td>\n",
              "      <td>0</td>\n",
              "      <td>aparvvfowrjncdhp</td>\n",
              "      <td>0.000000</td>\n",
              "      <td>Diesel</td>\n",
              "      <td>Tourism</td>\n",
              "      <td>0.000000</td>\n",
              "      <td>-0.500615</td>\n",
              "      <td>0.000000</td>\n",
              "      <td>2.204545</td>\n",
              "      <td>-0.503883</td>\n",
              "    </tr>\n",
              "    <tr>\n",
              "      <th>2</th>\n",
              "      <td>PL042496</td>\n",
              "      <td>1.0</td>\n",
              "      <td>0.196</td>\n",
              "      <td>Med1</td>\n",
              "      <td>-0.692308</td>\n",
              "      <td>-1.5</td>\n",
              "      <td>Yearly</td>\n",
              "      <td>Yes</td>\n",
              "      <td>Retired</td>\n",
              "      <td>M</td>\n",
              "      <td>-0.045455</td>\n",
              "      <td>0.05</td>\n",
              "      <td>Yes</td>\n",
              "      <td>F</td>\n",
              "      <td>iwhqpdfuhrsxyqxe</td>\n",
              "      <td>-0.222222</td>\n",
              "      <td>Diesel</td>\n",
              "      <td>Commercial</td>\n",
              "      <td>-0.857143</td>\n",
              "      <td>-0.205729</td>\n",
              "      <td>0.138122</td>\n",
              "      <td>1.590909</td>\n",
              "      <td>0.522816</td>\n",
              "    </tr>\n",
              "    <tr>\n",
              "      <th>3</th>\n",
              "      <td>PL042497</td>\n",
              "      <td>1.0</td>\n",
              "      <td>0.000</td>\n",
              "      <td>Med2</td>\n",
              "      <td>-0.230769</td>\n",
              "      <td>0.5</td>\n",
              "      <td>Yearly</td>\n",
              "      <td>No</td>\n",
              "      <td>WorkPrivate</td>\n",
              "      <td>F</td>\n",
              "      <td>-0.090909</td>\n",
              "      <td>-0.15</td>\n",
              "      <td>No</td>\n",
              "      <td>0</td>\n",
              "      <td>kvcddisqpkysmvvo</td>\n",
              "      <td>-0.666667</td>\n",
              "      <td>Gasoline</td>\n",
              "      <td>Tourism</td>\n",
              "      <td>-0.892857</td>\n",
              "      <td>0.084901</td>\n",
              "      <td>-0.361878</td>\n",
              "      <td>-0.318182</td>\n",
              "      <td>0.313592</td>\n",
              "    </tr>\n",
              "    <tr>\n",
              "      <th>4</th>\n",
              "      <td>PL042498</td>\n",
              "      <td>1.0</td>\n",
              "      <td>0.000</td>\n",
              "      <td>Med1</td>\n",
              "      <td>-0.692308</td>\n",
              "      <td>-1.0</td>\n",
              "      <td>Yearly</td>\n",
              "      <td>No</td>\n",
              "      <td>Retired</td>\n",
              "      <td>F</td>\n",
              "      <td>0.409091</td>\n",
              "      <td>0.20</td>\n",
              "      <td>No</td>\n",
              "      <td>0</td>\n",
              "      <td>tdgkjlphosocwbgu</td>\n",
              "      <td>0.333333</td>\n",
              "      <td>Gasoline</td>\n",
              "      <td>Tourism</td>\n",
              "      <td>0.928571</td>\n",
              "      <td>0.291860</td>\n",
              "      <td>0.475138</td>\n",
              "      <td>-0.659091</td>\n",
              "      <td>-0.411650</td>\n",
              "    </tr>\n",
              "    <tr>\n",
              "      <th>...</th>\n",
              "      <td>...</td>\n",
              "      <td>...</td>\n",
              "      <td>...</td>\n",
              "      <td>...</td>\n",
              "      <td>...</td>\n",
              "      <td>...</td>\n",
              "      <td>...</td>\n",
              "      <td>...</td>\n",
              "      <td>...</td>\n",
              "      <td>...</td>\n",
              "      <td>...</td>\n",
              "      <td>...</td>\n",
              "      <td>...</td>\n",
              "      <td>...</td>\n",
              "      <td>...</td>\n",
              "      <td>...</td>\n",
              "      <td>...</td>\n",
              "      <td>...</td>\n",
              "      <td>...</td>\n",
              "      <td>...</td>\n",
              "      <td>...</td>\n",
              "      <td>...</td>\n",
              "      <td>...</td>\n",
              "    </tr>\n",
              "    <tr>\n",
              "      <th>228211</th>\n",
              "      <td>PL008818</td>\n",
              "      <td>4.0</td>\n",
              "      <td>0.087</td>\n",
              "      <td>Med2</td>\n",
              "      <td>-0.538462</td>\n",
              "      <td>0.0</td>\n",
              "      <td>Monthly</td>\n",
              "      <td>No</td>\n",
              "      <td>WorkPrivate</td>\n",
              "      <td>F</td>\n",
              "      <td>-0.272727</td>\n",
              "      <td>-0.30</td>\n",
              "      <td>Yes</td>\n",
              "      <td>F</td>\n",
              "      <td>ubttjiaeeuwzcclq</td>\n",
              "      <td>0.555556</td>\n",
              "      <td>Diesel</td>\n",
              "      <td>Tourism</td>\n",
              "      <td>0.178571</td>\n",
              "      <td>-0.027229</td>\n",
              "      <td>-0.519337</td>\n",
              "      <td>1.613636</td>\n",
              "      <td>-0.290291</td>\n",
              "    </tr>\n",
              "    <tr>\n",
              "      <th>228212</th>\n",
              "      <td>PL055033</td>\n",
              "      <td>4.0</td>\n",
              "      <td>0.000</td>\n",
              "      <td>Max</td>\n",
              "      <td>0.230769</td>\n",
              "      <td>0.5</td>\n",
              "      <td>Monthly</td>\n",
              "      <td>No</td>\n",
              "      <td>WorkPrivate</td>\n",
              "      <td>M</td>\n",
              "      <td>-0.727273</td>\n",
              "      <td>-0.60</td>\n",
              "      <td>Yes</td>\n",
              "      <td>F</td>\n",
              "      <td>gfhjqtkgvomiygvx</td>\n",
              "      <td>-0.555556</td>\n",
              "      <td>Diesel</td>\n",
              "      <td>Tourism</td>\n",
              "      <td>-1.250000</td>\n",
              "      <td>-0.411270</td>\n",
              "      <td>0.334254</td>\n",
              "      <td>-0.659091</td>\n",
              "      <td>-0.317961</td>\n",
              "    </tr>\n",
              "    <tr>\n",
              "      <th>228213</th>\n",
              "      <td>PL061619</td>\n",
              "      <td>4.0</td>\n",
              "      <td>0.181</td>\n",
              "      <td>Max</td>\n",
              "      <td>-0.076923</td>\n",
              "      <td>0.0</td>\n",
              "      <td>Yearly</td>\n",
              "      <td>No</td>\n",
              "      <td>Retired</td>\n",
              "      <td>F</td>\n",
              "      <td>0.681818</td>\n",
              "      <td>0.15</td>\n",
              "      <td>No</td>\n",
              "      <td>0</td>\n",
              "      <td>swjkmyqytzxjwgag</td>\n",
              "      <td>0.555556</td>\n",
              "      <td>Gasoline</td>\n",
              "      <td>Tourism</td>\n",
              "      <td>0.035714</td>\n",
              "      <td>0.715231</td>\n",
              "      <td>0.392265</td>\n",
              "      <td>-0.068182</td>\n",
              "      <td>-0.237864</td>\n",
              "    </tr>\n",
              "    <tr>\n",
              "      <th>228214</th>\n",
              "      <td>PL060903</td>\n",
              "      <td>4.0</td>\n",
              "      <td>0.000</td>\n",
              "      <td>Max</td>\n",
              "      <td>1.076923</td>\n",
              "      <td>5.5</td>\n",
              "      <td>Biannual</td>\n",
              "      <td>No</td>\n",
              "      <td>Professional</td>\n",
              "      <td>M</td>\n",
              "      <td>-0.318182</td>\n",
              "      <td>-0.15</td>\n",
              "      <td>No</td>\n",
              "      <td>0</td>\n",
              "      <td>ponwkmeaxagundzq</td>\n",
              "      <td>2.333333</td>\n",
              "      <td>Diesel</td>\n",
              "      <td>Tourism</td>\n",
              "      <td>0.857143</td>\n",
              "      <td>0.346696</td>\n",
              "      <td>0.488950</td>\n",
              "      <td>-0.659091</td>\n",
              "      <td>-0.246117</td>\n",
              "    </tr>\n",
              "    <tr>\n",
              "      <th>228215</th>\n",
              "      <td>PL052240</td>\n",
              "      <td>4.0</td>\n",
              "      <td>0.000</td>\n",
              "      <td>Max</td>\n",
              "      <td>-0.307692</td>\n",
              "      <td>1.0</td>\n",
              "      <td>Biannual</td>\n",
              "      <td>No</td>\n",
              "      <td>WorkPrivate</td>\n",
              "      <td>F</td>\n",
              "      <td>0.318182</td>\n",
              "      <td>-0.10</td>\n",
              "      <td>Yes</td>\n",
              "      <td>M</td>\n",
              "      <td>iwhqpdfuhrsxyqxe</td>\n",
              "      <td>-0.333333</td>\n",
              "      <td>Diesel</td>\n",
              "      <td>Tourism</td>\n",
              "      <td>-0.857143</td>\n",
              "      <td>-0.205729</td>\n",
              "      <td>0.138122</td>\n",
              "      <td>-0.090909</td>\n",
              "      <td>-0.035437</td>\n",
              "    </tr>\n",
              "  </tbody>\n",
              "</table>\n",
              "<p>228216 rows × 23 columns</p>\n",
              "</div>"
            ],
            "text/plain": [
              "       id_policy  year  ...  population town_surface_area\n",
              "0       PL000000   1.0  ...    2.159091         -0.592233\n",
              "1       PL042495   1.0  ...    2.204545         -0.503883\n",
              "2       PL042496   1.0  ...    1.590909          0.522816\n",
              "3       PL042497   1.0  ...   -0.318182          0.313592\n",
              "4       PL042498   1.0  ...   -0.659091         -0.411650\n",
              "...          ...   ...  ...         ...               ...\n",
              "228211  PL008818   4.0  ...    1.613636         -0.290291\n",
              "228212  PL055033   4.0  ...   -0.659091         -0.317961\n",
              "228213  PL061619   4.0  ...   -0.068182         -0.237864\n",
              "228214  PL060903   4.0  ...   -0.659091         -0.246117\n",
              "228215  PL052240   4.0  ...   -0.090909         -0.035437\n",
              "\n",
              "[228216 rows x 23 columns]"
            ]
          },
          "metadata": {
            "tags": []
          },
          "execution_count": 106
        }
      ]
    },
    {
      "cell_type": "code",
      "metadata": {
        "colab": {
          "base_uri": "https://localhost:8080/",
          "height": 340
        },
        "id": "mvcQT4Qiuptq",
        "outputId": "e7d094db-a8b3-4a13-f0ee-5d7631c063a3"
      },
      "source": [
        "# merge and drop\r\n",
        "df_copy.merge(encoded_columns)\r\n",
        "df_copy"
      ],
      "execution_count": null,
      "outputs": [
        {
          "output_type": "error",
          "ename": "MergeError",
          "evalue": "ignored",
          "traceback": [
            "\u001b[0;31m---------------------------------------------------------------------------\u001b[0m",
            "\u001b[0;31mMergeError\u001b[0m                                Traceback (most recent call last)",
            "\u001b[0;32m<ipython-input-105-6cf9be2f0a86>\u001b[0m in \u001b[0;36m<module>\u001b[0;34m()\u001b[0m\n\u001b[1;32m      1\u001b[0m \u001b[0;31m# merge and drop\u001b[0m\u001b[0;34m\u001b[0m\u001b[0;34m\u001b[0m\u001b[0;34m\u001b[0m\u001b[0m\n\u001b[0;32m----> 2\u001b[0;31m \u001b[0mdf_copy\u001b[0m\u001b[0;34m.\u001b[0m\u001b[0mmerge\u001b[0m\u001b[0;34m(\u001b[0m\u001b[0mencoded_columns\u001b[0m\u001b[0;34m)\u001b[0m\u001b[0;34m\u001b[0m\u001b[0;34m\u001b[0m\u001b[0m\n\u001b[0m\u001b[1;32m      3\u001b[0m \u001b[0mdf_copy\u001b[0m\u001b[0;34m\u001b[0m\u001b[0;34m\u001b[0m\u001b[0m\n",
            "\u001b[0;32m/usr/local/lib/python3.6/dist-packages/pandas/core/frame.py\u001b[0m in \u001b[0;36mmerge\u001b[0;34m(self, right, how, on, left_on, right_on, left_index, right_index, sort, suffixes, copy, indicator, validate)\u001b[0m\n\u001b[1;32m   7961\u001b[0m             \u001b[0mcopy\u001b[0m\u001b[0;34m=\u001b[0m\u001b[0mcopy\u001b[0m\u001b[0;34m,\u001b[0m\u001b[0;34m\u001b[0m\u001b[0;34m\u001b[0m\u001b[0m\n\u001b[1;32m   7962\u001b[0m             \u001b[0mindicator\u001b[0m\u001b[0;34m=\u001b[0m\u001b[0mindicator\u001b[0m\u001b[0;34m,\u001b[0m\u001b[0;34m\u001b[0m\u001b[0;34m\u001b[0m\u001b[0m\n\u001b[0;32m-> 7963\u001b[0;31m             \u001b[0mvalidate\u001b[0m\u001b[0;34m=\u001b[0m\u001b[0mvalidate\u001b[0m\u001b[0;34m,\u001b[0m\u001b[0;34m\u001b[0m\u001b[0;34m\u001b[0m\u001b[0m\n\u001b[0m\u001b[1;32m   7964\u001b[0m         )\n\u001b[1;32m   7965\u001b[0m \u001b[0;34m\u001b[0m\u001b[0m\n",
            "\u001b[0;32m/usr/local/lib/python3.6/dist-packages/pandas/core/reshape/merge.py\u001b[0m in \u001b[0;36mmerge\u001b[0;34m(left, right, how, on, left_on, right_on, left_index, right_index, sort, suffixes, copy, indicator, validate)\u001b[0m\n\u001b[1;32m     85\u001b[0m         \u001b[0mcopy\u001b[0m\u001b[0;34m=\u001b[0m\u001b[0mcopy\u001b[0m\u001b[0;34m,\u001b[0m\u001b[0;34m\u001b[0m\u001b[0;34m\u001b[0m\u001b[0m\n\u001b[1;32m     86\u001b[0m         \u001b[0mindicator\u001b[0m\u001b[0;34m=\u001b[0m\u001b[0mindicator\u001b[0m\u001b[0;34m,\u001b[0m\u001b[0;34m\u001b[0m\u001b[0;34m\u001b[0m\u001b[0m\n\u001b[0;32m---> 87\u001b[0;31m         \u001b[0mvalidate\u001b[0m\u001b[0;34m=\u001b[0m\u001b[0mvalidate\u001b[0m\u001b[0;34m,\u001b[0m\u001b[0;34m\u001b[0m\u001b[0;34m\u001b[0m\u001b[0m\n\u001b[0m\u001b[1;32m     88\u001b[0m     )\n\u001b[1;32m     89\u001b[0m     \u001b[0;32mreturn\u001b[0m \u001b[0mop\u001b[0m\u001b[0;34m.\u001b[0m\u001b[0mget_result\u001b[0m\u001b[0;34m(\u001b[0m\u001b[0;34m)\u001b[0m\u001b[0;34m\u001b[0m\u001b[0;34m\u001b[0m\u001b[0m\n",
            "\u001b[0;32m/usr/local/lib/python3.6/dist-packages/pandas/core/reshape/merge.py\u001b[0m in \u001b[0;36m__init__\u001b[0;34m(self, left, right, how, on, left_on, right_on, axis, left_index, right_index, sort, suffixes, copy, indicator, validate)\u001b[0m\n\u001b[1;32m    643\u001b[0m             \u001b[0mwarnings\u001b[0m\u001b[0;34m.\u001b[0m\u001b[0mwarn\u001b[0m\u001b[0;34m(\u001b[0m\u001b[0mmsg\u001b[0m\u001b[0;34m,\u001b[0m \u001b[0mUserWarning\u001b[0m\u001b[0;34m)\u001b[0m\u001b[0;34m\u001b[0m\u001b[0;34m\u001b[0m\u001b[0m\n\u001b[1;32m    644\u001b[0m \u001b[0;34m\u001b[0m\u001b[0m\n\u001b[0;32m--> 645\u001b[0;31m         \u001b[0mself\u001b[0m\u001b[0;34m.\u001b[0m\u001b[0m_validate_specification\u001b[0m\u001b[0;34m(\u001b[0m\u001b[0;34m)\u001b[0m\u001b[0;34m\u001b[0m\u001b[0;34m\u001b[0m\u001b[0m\n\u001b[0m\u001b[1;32m    646\u001b[0m \u001b[0;34m\u001b[0m\u001b[0m\n\u001b[1;32m    647\u001b[0m         \u001b[0;31m# note this function has side effects\u001b[0m\u001b[0;34m\u001b[0m\u001b[0;34m\u001b[0m\u001b[0;34m\u001b[0m\u001b[0m\n",
            "\u001b[0;32m/usr/local/lib/python3.6/dist-packages/pandas/core/reshape/merge.py\u001b[0m in \u001b[0;36m_validate_specification\u001b[0;34m(self)\u001b[0m\n\u001b[1;32m   1215\u001b[0m                 \u001b[0;32mif\u001b[0m \u001b[0mlen\u001b[0m\u001b[0;34m(\u001b[0m\u001b[0mcommon_cols\u001b[0m\u001b[0;34m)\u001b[0m \u001b[0;34m==\u001b[0m \u001b[0;36m0\u001b[0m\u001b[0;34m:\u001b[0m\u001b[0;34m\u001b[0m\u001b[0;34m\u001b[0m\u001b[0m\n\u001b[1;32m   1216\u001b[0m                     raise MergeError(\n\u001b[0;32m-> 1217\u001b[0;31m                         \u001b[0;34m\"No common columns to perform merge on. \"\u001b[0m\u001b[0;34m\u001b[0m\u001b[0;34m\u001b[0m\u001b[0m\n\u001b[0m\u001b[1;32m   1218\u001b[0m                         \u001b[0;34mf\"Merge options: left_on={self.left_on}, \"\u001b[0m\u001b[0;34m\u001b[0m\u001b[0;34m\u001b[0m\u001b[0m\n\u001b[1;32m   1219\u001b[0m                         \u001b[0;34mf\"right_on={self.right_on}, \"\u001b[0m\u001b[0;34m\u001b[0m\u001b[0;34m\u001b[0m\u001b[0m\n",
            "\u001b[0;31mMergeError\u001b[0m: No common columns to perform merge on. Merge options: left_on=None, right_on=None, left_index=False, right_index=False"
          ]
        }
      ]
    },
    {
      "cell_type": "code",
      "metadata": {
        "id": "4Wblg8m1jfO7"
      },
      "source": [
        "ohe.get_feature_names"
      ],
      "execution_count": null,
      "outputs": []
    },
    {
      "cell_type": "code",
      "metadata": {
        "id": "_lu0FZoAAsMs"
      },
      "source": [
        "import importlib\r\n",
        "import utils\r\n",
        "importlib.reload(utils)\r\n",
        "from utils import *  # do not change this"
      ],
      "execution_count": null,
      "outputs": []
    },
    {
      "cell_type": "markdown",
      "metadata": {
        "id": "NAaNQuVxRTUs"
      },
      "source": [
        "## Define the training logic"
      ]
    },
    {
      "cell_type": "code",
      "metadata": {
        "id": "Ji1vWz7F0N_v"
      },
      "source": [
        "# Pseudocode for Modeling\r\n",
        "\r\n",
        "# Create a baseline score (RMSE; this is what the competition uses).\r\n",
        "# Do this with the Holdout Method\r\n",
        "\r\n",
        "# Cross validate a regression model\r\n",
        "\r\n",
        "# Collect the RMSE"
      ],
      "execution_count": null,
      "outputs": []
    },
    {
      "cell_type": "code",
      "metadata": {
        "colab": {
          "base_uri": "https://localhost:8080/",
          "height": 224
        },
        "id": "48BrKf_GWGYp",
        "outputId": "34561f70-0940-40e0-d7bb-dbbd24bf19d5"
      },
      "source": [
        "X_train_yr1.head()\r\n",
        "# y_train_yr1.tail()"
      ],
      "execution_count": null,
      "outputs": [
        {
          "output_type": "execute_result",
          "data": {
            "text/html": [
              "<div>\n",
              "<style scoped>\n",
              "    .dataframe tbody tr th:only-of-type {\n",
              "        vertical-align: middle;\n",
              "    }\n",
              "\n",
              "    .dataframe tbody tr th {\n",
              "        vertical-align: top;\n",
              "    }\n",
              "\n",
              "    .dataframe thead th {\n",
              "        text-align: right;\n",
              "    }\n",
              "</style>\n",
              "<table border=\"1\" class=\"dataframe\">\n",
              "  <thead>\n",
              "    <tr style=\"text-align: right;\">\n",
              "      <th></th>\n",
              "      <th>pol_no_claims_discount</th>\n",
              "      <th>pol_duration</th>\n",
              "      <th>pol_sit_duration</th>\n",
              "      <th>pol_payd</th>\n",
              "      <th>drv_sex1</th>\n",
              "      <th>drv_age1</th>\n",
              "      <th>drv_age_lic1</th>\n",
              "      <th>vh_age</th>\n",
              "      <th>vh_type</th>\n",
              "      <th>vh_speed</th>\n",
              "      <th>vh_value</th>\n",
              "      <th>vh_weight</th>\n",
              "      <th>population</th>\n",
              "      <th>town_surface_area</th>\n",
              "      <th>pol_coverage_Max</th>\n",
              "      <th>pol_coverage_Med1</th>\n",
              "      <th>pol_coverage_Med2</th>\n",
              "      <th>pol_coverage_Min</th>\n",
              "      <th>pol_pay_freq_Biannual</th>\n",
              "      <th>pol_pay_freq_Monthly</th>\n",
              "      <th>pol_pay_freq_Quarterly</th>\n",
              "      <th>pol_pay_freq_Yearly</th>\n",
              "      <th>pol_usage_AllTrips</th>\n",
              "      <th>pol_usage_Professional</th>\n",
              "      <th>pol_usage_Retired</th>\n",
              "      <th>pol_usage_WorkPrivate</th>\n",
              "      <th>drv_drv2_0</th>\n",
              "      <th>drv_drv2_1</th>\n",
              "      <th>vh_fuel_Diesel</th>\n",
              "      <th>vh_fuel_Gasoline</th>\n",
              "      <th>vh_fuel_Hybrid</th>\n",
              "    </tr>\n",
              "  </thead>\n",
              "  <tbody>\n",
              "    <tr>\n",
              "      <th>0</th>\n",
              "      <td>0.332</td>\n",
              "      <td>-0.461538</td>\n",
              "      <td>-1.5</td>\n",
              "      <td>0</td>\n",
              "      <td>1</td>\n",
              "      <td>-0.954545</td>\n",
              "      <td>-0.90</td>\n",
              "      <td>-0.222222</td>\n",
              "      <td>1</td>\n",
              "      <td>0.000000</td>\n",
              "      <td>-0.500615</td>\n",
              "      <td>0.000000</td>\n",
              "      <td>2.159091</td>\n",
              "      <td>-0.592233</td>\n",
              "      <td>0</td>\n",
              "      <td>0</td>\n",
              "      <td>1</td>\n",
              "      <td>0</td>\n",
              "      <td>0</td>\n",
              "      <td>1</td>\n",
              "      <td>0</td>\n",
              "      <td>0</td>\n",
              "      <td>0</td>\n",
              "      <td>0</td>\n",
              "      <td>0</td>\n",
              "      <td>1</td>\n",
              "      <td>0</td>\n",
              "      <td>1</td>\n",
              "      <td>0</td>\n",
              "      <td>1</td>\n",
              "      <td>0</td>\n",
              "    </tr>\n",
              "    <tr>\n",
              "      <th>1</th>\n",
              "      <td>0.000</td>\n",
              "      <td>-0.384615</td>\n",
              "      <td>-1.5</td>\n",
              "      <td>0</td>\n",
              "      <td>1</td>\n",
              "      <td>0.181818</td>\n",
              "      <td>0.35</td>\n",
              "      <td>0.000000</td>\n",
              "      <td>1</td>\n",
              "      <td>0.000000</td>\n",
              "      <td>-0.500615</td>\n",
              "      <td>0.000000</td>\n",
              "      <td>2.204545</td>\n",
              "      <td>-0.503883</td>\n",
              "      <td>0</td>\n",
              "      <td>0</td>\n",
              "      <td>1</td>\n",
              "      <td>0</td>\n",
              "      <td>0</td>\n",
              "      <td>1</td>\n",
              "      <td>0</td>\n",
              "      <td>0</td>\n",
              "      <td>0</td>\n",
              "      <td>0</td>\n",
              "      <td>0</td>\n",
              "      <td>1</td>\n",
              "      <td>1</td>\n",
              "      <td>0</td>\n",
              "      <td>1</td>\n",
              "      <td>0</td>\n",
              "      <td>0</td>\n",
              "    </tr>\n",
              "    <tr>\n",
              "      <th>2</th>\n",
              "      <td>0.196</td>\n",
              "      <td>-0.692308</td>\n",
              "      <td>-1.5</td>\n",
              "      <td>1</td>\n",
              "      <td>1</td>\n",
              "      <td>-0.045455</td>\n",
              "      <td>0.05</td>\n",
              "      <td>-0.222222</td>\n",
              "      <td>0</td>\n",
              "      <td>-0.857143</td>\n",
              "      <td>-0.205729</td>\n",
              "      <td>0.138122</td>\n",
              "      <td>1.590909</td>\n",
              "      <td>0.522816</td>\n",
              "      <td>0</td>\n",
              "      <td>1</td>\n",
              "      <td>0</td>\n",
              "      <td>0</td>\n",
              "      <td>0</td>\n",
              "      <td>0</td>\n",
              "      <td>0</td>\n",
              "      <td>1</td>\n",
              "      <td>0</td>\n",
              "      <td>0</td>\n",
              "      <td>1</td>\n",
              "      <td>0</td>\n",
              "      <td>0</td>\n",
              "      <td>1</td>\n",
              "      <td>1</td>\n",
              "      <td>0</td>\n",
              "      <td>0</td>\n",
              "    </tr>\n",
              "    <tr>\n",
              "      <th>3</th>\n",
              "      <td>0.000</td>\n",
              "      <td>-0.230769</td>\n",
              "      <td>0.5</td>\n",
              "      <td>0</td>\n",
              "      <td>0</td>\n",
              "      <td>-0.090909</td>\n",
              "      <td>-0.15</td>\n",
              "      <td>-0.666667</td>\n",
              "      <td>1</td>\n",
              "      <td>-0.892857</td>\n",
              "      <td>0.084901</td>\n",
              "      <td>-0.361878</td>\n",
              "      <td>-0.318182</td>\n",
              "      <td>0.313592</td>\n",
              "      <td>0</td>\n",
              "      <td>0</td>\n",
              "      <td>1</td>\n",
              "      <td>0</td>\n",
              "      <td>0</td>\n",
              "      <td>0</td>\n",
              "      <td>0</td>\n",
              "      <td>1</td>\n",
              "      <td>0</td>\n",
              "      <td>0</td>\n",
              "      <td>0</td>\n",
              "      <td>1</td>\n",
              "      <td>1</td>\n",
              "      <td>0</td>\n",
              "      <td>0</td>\n",
              "      <td>1</td>\n",
              "      <td>0</td>\n",
              "    </tr>\n",
              "    <tr>\n",
              "      <th>4</th>\n",
              "      <td>0.000</td>\n",
              "      <td>-0.692308</td>\n",
              "      <td>-1.0</td>\n",
              "      <td>0</td>\n",
              "      <td>0</td>\n",
              "      <td>0.409091</td>\n",
              "      <td>0.20</td>\n",
              "      <td>0.333333</td>\n",
              "      <td>1</td>\n",
              "      <td>0.928571</td>\n",
              "      <td>0.291860</td>\n",
              "      <td>0.475138</td>\n",
              "      <td>-0.659091</td>\n",
              "      <td>-0.411650</td>\n",
              "      <td>0</td>\n",
              "      <td>1</td>\n",
              "      <td>0</td>\n",
              "      <td>0</td>\n",
              "      <td>0</td>\n",
              "      <td>0</td>\n",
              "      <td>0</td>\n",
              "      <td>1</td>\n",
              "      <td>0</td>\n",
              "      <td>0</td>\n",
              "      <td>1</td>\n",
              "      <td>0</td>\n",
              "      <td>1</td>\n",
              "      <td>0</td>\n",
              "      <td>0</td>\n",
              "      <td>1</td>\n",
              "      <td>0</td>\n",
              "    </tr>\n",
              "  </tbody>\n",
              "</table>\n",
              "</div>"
            ],
            "text/plain": [
              "   pol_no_claims_discount  pol_duration  ...  vh_fuel_Gasoline  vh_fuel_Hybrid\n",
              "0                   0.332     -0.461538  ...                 1               0\n",
              "1                   0.000     -0.384615  ...                 0               0\n",
              "2                   0.196     -0.692308  ...                 0               0\n",
              "3                   0.000     -0.230769  ...                 1               0\n",
              "4                   0.000     -0.692308  ...                 1               0\n",
              "\n",
              "[5 rows x 31 columns]"
            ]
          },
          "metadata": {
            "tags": []
          },
          "execution_count": 32
        }
      ]
    },
    {
      "cell_type": "code",
      "metadata": {
        "id": "4FJ9ja0NV1LJ"
      },
      "source": [
        "# Pseudocode for Modeling\r\n",
        "\r\n",
        "# Create a baseline score (RMSE; this is what the competition uses).\r\n",
        "# Do this with the Holdout Method\r\n",
        "\r\n",
        "# remove columns that I will not be regressing on\r\n",
        "X_train_yr1 = X_train_yr1.drop(columns=['id_policy', 'year', 'vh_make_model'])\r\n",
        "X_train_yr1"
      ],
      "execution_count": null,
      "outputs": []
    },
    {
      "cell_type": "code",
      "metadata": {
        "colab": {
          "base_uri": "https://localhost:8080/"
        },
        "id": "Darobs_MZC4n",
        "outputId": "01e72f48-953e-4c96-b397-6fedc7d59045"
      },
      "source": [
        "# Cross validate a regression model\r\n",
        "# from sklearn.model_selection import train_test_split\r\n",
        "# from sklearn.dummy import DummyRegressor\r\n",
        "# from sklearn.metrics import mean_squared_error\r\n",
        "# import math\r\n",
        "\r\n",
        "X_train_yr1_train, X_val_yr1, y_train_yr1_train, y_val_yr1 = train_test_split(X_train_yr1, y_train_yr1, test_size=.25, random_state=23)\r\n",
        "\r\n",
        "# Collect the RMSE\r\n",
        "baseline_model = DummyRegressor(strategy='mean')\r\n",
        "baseline_model.fit(X_train_yr1_train, y_train_yr1_train)\r\n",
        "baseline_model.score(X_val_yr1, y_val_yr1)\r\n",
        "math.sqrt(mean_squared_error(y_val_yr1, baseline_model.predict(X_val_yr1)))"
      ],
      "execution_count": null,
      "outputs": [
        {
          "output_type": "execute_result",
          "data": {
            "text/plain": [
              "543.1483680213928"
            ]
          },
          "metadata": {
            "tags": []
          },
          "execution_count": 46
        }
      ]
    },
    {
      "cell_type": "code",
      "metadata": {
        "colab": {
          "base_uri": "https://localhost:8080/"
        },
        "id": "rrnLmbDoZV1h",
        "outputId": "082d089e-720f-427b-8530-96534f71a6e4"
      },
      "source": [
        "# from sklearn.linear_model import LinearRegression\r\n",
        "\r\n",
        "model = LinearRegression()\r\n",
        "model.fit(X_train_yr1_train, y_train_yr1_train)\r\n",
        "model.score(X_val_yr1, y_val_yr1)"
      ],
      "execution_count": null,
      "outputs": [
        {
          "output_type": "execute_result",
          "data": {
            "text/plain": [
              "0.013459595100834942"
            ]
          },
          "metadata": {
            "tags": []
          },
          "execution_count": 37
        }
      ]
    },
    {
      "cell_type": "code",
      "metadata": {
        "colab": {
          "base_uri": "https://localhost:8080/"
        },
        "id": "LUcGRBwmaDpy",
        "outputId": "1561033d-8b43-442c-d780-2bf6acb1e5dd"
      },
      "source": [
        "# Now get a cross validated model\r\n",
        "# from sklearn.model_selection import cross_validate\r\n",
        "cv_results = cross_validate(model, X_train_yr1_train, y_train_yr1_train, cv=5)\r\n",
        "cv_results\r\n",
        "cv_results['test_score'].mean()"
      ],
      "execution_count": null,
      "outputs": [
        {
          "output_type": "execute_result",
          "data": {
            "text/plain": [
              "0.006883333405656766"
            ]
          },
          "metadata": {
            "tags": []
          },
          "execution_count": 39
        }
      ]
    },
    {
      "cell_type": "code",
      "metadata": {
        "colab": {
          "base_uri": "https://localhost:8080/"
        },
        "id": "zrJTAuCzbFoC",
        "outputId": "91f463e2-c304-4c62-d3c7-83776cd53fdf"
      },
      "source": [
        "# get predicted values\r\n",
        "y_pred = model.predict(X_val_yr1)\r\n",
        "print(y_pred)"
      ],
      "execution_count": null,
      "outputs": [
        {
          "output_type": "stream",
          "text": [
            "[ 85.38671875 176.98046875  34.49609375 ...  36.51171875  34.30859375\n",
            " 153.57421875]\n"
          ],
          "name": "stdout"
        }
      ]
    },
    {
      "cell_type": "code",
      "metadata": {
        "colab": {
          "base_uri": "https://localhost:8080/"
        },
        "id": "T19m5_ROauTu",
        "outputId": "4ca8a9d8-bb66-4a95-9205-12de919182f5"
      },
      "source": [
        "# find RMSE\r\n",
        "math.sqrt(mean_squared_error(y_val_yr1, y_pred))"
      ],
      "execution_count": null,
      "outputs": [
        {
          "output_type": "execute_result",
          "data": {
            "text/plain": [
              "539.4408345205159"
            ]
          },
          "metadata": {
            "tags": []
          },
          "execution_count": 47
        }
      ]
    },
    {
      "cell_type": "code",
      "metadata": {
        "id": "ffOanSIvd9Yh"
      },
      "source": [
        "def fit_model(X_raw, y_raw):\n",
        "    \"\"\"Model training function: given training data (X_raw, y_raw), train this pricing model.\n",
        "\n",
        "    Parameters\n",
        "    ----------\n",
        "    X_raw : Pandas dataframe, with the columns described in the data dictionary.\n",
        "        Each row is a different contract. This data has not been processed.\n",
        "    y_raw : a Numpy array, with the value of the claims, in the same order as contracts in X_raw.\n",
        "        A one dimensional array, with values either 0 (most entries) or >0.\n",
        "\n",
        "    Returns\n",
        "    -------\n",
        "    self: this instance of the fitted model. This can be anything, as long as it is compatible\n",
        "        with your prediction methods.\n",
        "\n",
        "    \"\"\"\n",
        "\n",
        "    # TODO: train your model here.\n",
        "    # Don't forget any preprocessing of the raw data here\n",
        "\n",
        "    return np.mean(y_raw)  # By default, training a model that returns a mean value (a mean model)."
      ],
      "execution_count": null,
      "outputs": []
    },
    {
      "cell_type": "markdown",
      "metadata": {
        "id": "CfjGFHcXd9Yh"
      },
      "source": [
        "## Train your model"
      ]
    },
    {
      "cell_type": "code",
      "metadata": {
        "id": "0wtCLn_Xd9Yi"
      },
      "source": [
        "trained_model = fit_model(X_train, y_train)"
      ],
      "execution_count": null,
      "outputs": []
    },
    {
      "cell_type": "markdown",
      "metadata": {
        "id": "NjUk7tfjd9Yi"
      },
      "source": [
        "**Important note**: your training code should be able to run in under 10 minutes (since this notebook is re-run entirely on the server side). \n",
        "\n",
        "If you run into an issue here we recommend using the *zip file submission* (see the [challenge page](https://www.aicrowd.com/challenges/insurance-pricing-game/#how-to%20submit)). In short, you can simply do this by copy-pasting your `fit_model`, `predict_expected_claim` and `predict_premium` functions to the `model.py` file.\n",
        "\n",
        "Note that if you want to perform extensive cross-validation/hyper-parameter selection, it is better to do them offline, in a separate notebook."
      ]
    },
    {
      "cell_type": "markdown",
      "metadata": {
        "id": "LWYcr_Ued9Yi"
      },
      "source": [
        "## Saving your model\n",
        "\n",
        "You can save your model to a file here, so you don't need to retrain it every time."
      ]
    },
    {
      "cell_type": "code",
      "metadata": {
        "id": "O6iWwkmHd9Yi"
      },
      "source": [
        "def save_model(model_path):\n",
        "  with open(model_path, 'wb') as target_file:\n",
        "      pickle.dump(trained_model, target_file)"
      ],
      "execution_count": null,
      "outputs": []
    },
    {
      "cell_type": "code",
      "metadata": {
        "id": "zwEEP95EMow4"
      },
      "source": [
        "save_model(Config.MODEL_OUTPUT_PATH)"
      ],
      "execution_count": null,
      "outputs": []
    },
    {
      "cell_type": "markdown",
      "metadata": {
        "id": "9G3KPnlsd9Yi"
      },
      "source": [
        "If you need to load it from file, you can use this code:"
      ]
    },
    {
      "cell_type": "code",
      "metadata": {
        "id": "ICY88PT5d9Yi"
      },
      "source": [
        "def load_model(model_path):\n",
        "  with open(model_path, 'rb') as target:\n",
        "      return pickle.load(target)"
      ],
      "execution_count": null,
      "outputs": []
    },
    {
      "cell_type": "code",
      "metadata": {
        "id": "dxTX1TYOMsWK"
      },
      "source": [
        "trained_model = load_model(Config.MODEL_OUTPUT_PATH)"
      ],
      "execution_count": null,
      "outputs": []
    },
    {
      "cell_type": "markdown",
      "metadata": {
        "id": "tVeJiR1Ud9Yi"
      },
      "source": [
        "# Predicting the claims 💵\n",
        "\n",
        "The second function, `predict_expected_claim`, takes your trained model and a dataframe of contracts, and outputs a prediction for the (expected) claim incurred by each contract. This expected claim can be seen as the probability of an accident multiplied by the cost of that accident.\n",
        "\n",
        "This is the function used to compute the _RMSE_ leaderboard, where the model best able to predict claims wins."
      ]
    },
    {
      "cell_type": "code",
      "metadata": {
        "id": "rgM1xNf0d9Yi"
      },
      "source": [
        "def predict_expected_claim(model, X_raw):\n",
        "    \"\"\"Model prediction function: predicts the expected claim based on the pricing model.\n",
        "\n",
        "    This functions estimates the expected claim made by a contract (typically, as the product\n",
        "    of the probability of having a claim multiplied by the expected cost of a claim if it occurs),\n",
        "    for each contract in the dataset X_raw.\n",
        "\n",
        "    This is the function used in the RMSE leaderboard, and hence the output should be as close\n",
        "    as possible to the expected cost of a contract.\n",
        "\n",
        "    Parameters\n",
        "    ----------\n",
        "    model: a Python object that describes your model. This can be anything, as long\n",
        "        as it is consistent with what `fit` outpurs.\n",
        "    X_raw : Pandas dataframe, with the columns described in the data dictionary.\n",
        "        Each row is a different contract. This data has not been processed.\n",
        "\n",
        "    Returns\n",
        "    -------\n",
        "    avg_claims: a one-dimensional Numpy array of the same length as X_raw, with one\n",
        "        expected claim per contract (in same order). These expected claims must be POSITIVE (>0).\n",
        "    \"\"\"\n",
        "\n",
        "    # TODO: estimate the expected claim of every contract.\n",
        "    # Don't forget any preprocessing of the raw data here\n",
        "    \n",
        "    return np.full( (len(X_raw.index),), model )  # Estimate that each contract will cost 114 (this is the naive mean model). You should change this!"
      ],
      "execution_count": null,
      "outputs": []
    },
    {
      "cell_type": "markdown",
      "metadata": {
        "id": "FN7RqHcld9Yi"
      },
      "source": [
        "To test your function, run it on your training data:"
      ]
    },
    {
      "cell_type": "code",
      "metadata": {
        "id": "P7Pu1UE-d9Yi"
      },
      "source": [
        "predict_expected_claim(trained_model, X_train)"
      ],
      "execution_count": null,
      "outputs": []
    },
    {
      "cell_type": "markdown",
      "metadata": {
        "id": "2LuitAiQd9Yi"
      },
      "source": [
        "# Pricing contracts 💰💰\n",
        "\n",
        "The third and final function, `predict_premium`, takes your trained model and a dataframe of contracts, and outputs a _price_ for each of these contracts. **You are free to set this prices however you want!** These prices will then be used in competition with other models: contracts will choose the model offering the lowest price, and this model will have to pay the cost if an accident occurs.\n",
        "\n",
        "This is the function used to compute the _profit_ leaderboard: your model will participate in many markets of size 10, populated by other participants' model, and we compute the average profit of your model over all the markets it participated in."
      ]
    },
    {
      "cell_type": "code",
      "metadata": {
        "id": "agmv13hnd9Yi"
      },
      "source": [
        "def predict_premium(model, X_raw):\n",
        "    \"\"\"Model prediction function: predicts premiums based on the pricing model.\n",
        "\n",
        "    This function outputs the prices that will be offered to the contracts in X_raw.\n",
        "    premium will typically depend on the average claim predicted in \n",
        "    predict_average_claim, and will add some pricing strategy on top.\n",
        "\n",
        "    This is the function used in the average profit leaderboard. Prices output here will\n",
        "    be used in competition with other models, so feel free to use a pricing strategy.\n",
        "\n",
        "    Parameters\n",
        "    ----------\n",
        "    model: a Python object that describes your model. This can be anything, as long\n",
        "        as it is consistent with what `fit` outpurs.\n",
        "    X_raw : Pandas dataframe, with the columns described in the data dictionary.\n",
        "        Each row is a different contract. This data has not been processed.\n",
        "\n",
        "    Returns\n",
        "    -------\n",
        "    prices: a one-dimensional Numpy array of the same length as X_raw, with one\n",
        "        price per contract (in same order). These prices must be POSITIVE (>0).\n",
        "    \"\"\"\n",
        "\n",
        "    # TODO: return a price for everyone.\n",
        "    # Don't forget any preprocessing of the raw data here\n",
        "\n",
        "    return predict_expected_claim(model, X_raw)  # Default: price at the pure premium with no pricing strategy."
      ],
      "execution_count": null,
      "outputs": []
    },
    {
      "cell_type": "markdown",
      "metadata": {
        "id": "tu7T3lQ_d9Yi"
      },
      "source": [
        "To test your function, run it on your training data."
      ]
    },
    {
      "cell_type": "code",
      "metadata": {
        "id": "P2Ej-1zcd9Yi"
      },
      "source": [
        "prices = predict_premium(trained_model, X_train)"
      ],
      "execution_count": null,
      "outputs": []
    },
    {
      "cell_type": "markdown",
      "metadata": {
        "id": "vcU5hWPHd9Yi"
      },
      "source": [
        "#### Profit on training data\n",
        "\n",
        "In order for your model to be considered in the profit competition, it needs to make nonnegative profit over its training set. You can check that your model satisfies this condition below:"
      ]
    },
    {
      "cell_type": "code",
      "metadata": {
        "id": "hf389fhYd9Yi"
      },
      "source": [
        "print('Income:', prices.sum())\n",
        "print('Losses:', y_train.sum())\n",
        "\n",
        "if prices.sum() < y_train.sum():\n",
        "    print('Your model loses money on the training data! It does not satisfy market rule 1: Non-negative training profit.')\n",
        "    print('This model will be disqualified from the weekly profit leaderboard, but can be submitted for educational purposes to the RMSE leaderboard.')\n",
        "else:\n",
        "    print('Your model passes the non-negative training profit test!')"
      ],
      "execution_count": null,
      "outputs": []
    },
    {
      "cell_type": "markdown",
      "metadata": {
        "id": "AQlsVqDqd9Yi"
      },
      "source": [
        "# Ready? Submit to AIcrowd 🚀\n",
        "\n",
        "If you are satisfied with your code, run the code below to send your code to the AICrowd servers for evaluation! This requires the variable `trained_model` to be defined by your previous code.\n",
        "\n",
        "**Make sure you have included all packages needed to run your code in the [_\"Packages\"_](#packages) section.**"
      ]
    },
    {
      "cell_type": "code",
      "metadata": {
        "id": "ovm0PyTEd9Yi"
      },
      "source": [
        "%aicrowd_submit"
      ],
      "execution_count": null,
      "outputs": []
    }
  ]
}